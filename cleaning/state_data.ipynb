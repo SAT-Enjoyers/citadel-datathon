{
 "cells": [
  {
   "cell_type": "code",
   "execution_count": null,
   "metadata": {},
   "outputs": [],
   "source": [
    "import pandas as pd\n",
    "import numpy as np"
   ]
  },
  {
   "cell_type": "code",
   "execution_count": null,
   "metadata": {},
   "outputs": [],
   "source": [
    "DIR = '../udataset/acs/'\n",
    "\n",
    "income_data = 'INCOME AND BENEFITS.csv'\n",
    "income_df = pd.read_csv(DIR + income_data)\n",
    "poverty_data = 'PERCENT POVERTY LINE.csv'\n",
    "poverty_df = pd.read_csv(DIR + poverty_data)\n",
    "\n",
    "print(poverty_df.columns)\n",
    "\n",
    "industry_data = 'INDUSTRY.csv'\n",
    "industry_df = pd.read_csv(DIR + industry_data)\n",
    "health_data = 'HEALTH INSURANCE COVERAGE.csv'\n",
    "health_df = pd.read_csv(DIR + health_data)\n",
    "unemployment_data = 'unemployment.csv'\n",
    "unemployment_df = pd.read_csv(DIR + unemployment_data)\n",
    "worker_class_data = 'CLASS OF WORKER.csv'\n",
    "worker_class_df = pd.read_csv(DIR + worker_class_data)\n",
    "\n",
    "def strip_columns(df):\n",
    "    df.columns = df.columns.str.strip()\n",
    "    df['state'] = df['state'].str.strip()\n",
    "\n",
    "    df['state'] = df['state'].str.lower()\n",
    "\n",
    "    if 'label' in df.columns:\n",
    "        df['label'] = df['label'].str.strip()\n",
    "        df['label'] = df['label'].str.lower()\n",
    "\n",
    "    return df"
   ]
  },
  {
   "cell_type": "code",
   "execution_count": null,
   "metadata": {},
   "outputs": [],
   "source": [
    "unemployment_df = strip_columns(unemployment_df)\n",
    "poverty_df = strip_columns(poverty_df)\n",
    "industry_df = strip_columns(industry_df)\n",
    "income_df = strip_columns(income_df)\n",
    "worker_class_df = strip_columns(worker_class_df)\n",
    "\n",
    "print(unemployment_df.columns)\n",
    "unemployment_df = unemployment_df.drop(['estimate'], axis=1)\n",
    "\n",
    "keep_cols = ['state', 'percent', 'year']\n",
    "keep_cols_income = ['state', 'estimate', 'year']\n",
    "\n",
    "filtered_poverty_df = poverty_df[poverty_df['label'] == 'all people'][keep_cols]\n",
    "filtered_poverty_df = filtered_poverty_df.reset_index()\n",
    "filtered_income_df = income_df[income_df['label'] == 'median household income (dollars)'][keep_cols_income]\n",
    "unemployment_df = unemployment_df.reset_index()\n",
    "income_df = income_df.reset_index()\n",
    "\n",
    "filtered_poverty_df.dtypes"
   ]
  },
  {
   "cell_type": "code",
   "execution_count": null,
   "metadata": {},
   "outputs": [],
   "source": [
    "filtered_income_df"
   ]
  },
  {
   "cell_type": "code",
   "execution_count": null,
   "metadata": {},
   "outputs": [],
   "source": [
    "unemployment_df = pd.merge(unemployment_df, filtered_poverty_df, on=['state', 'year'])\n",
    "unemployment_df = unemployment_df.drop(columns=[\"index_x\", \"index_y\"])"
   ]
  },
  {
   "cell_type": "code",
   "execution_count": null,
   "metadata": {},
   "outputs": [],
   "source": [
    "unemployment_df = unemployment_df.rename(columns={'percent':'below_poverty_line_percent'})"
   ]
  },
  {
   "cell_type": "code",
   "execution_count": null,
   "metadata": {},
   "outputs": [],
   "source": [
    "unemployment_df = pd.merge(unemployment_df, filtered_income_df, on=['state', 'year'])"
   ]
  },
  {
   "cell_type": "code",
   "execution_count": null,
   "metadata": {},
   "outputs": [],
   "source": [
    "unemployment_df = unemployment_df.rename(columns={'estimate':'median_household_income'})"
   ]
  },
  {
   "cell_type": "code",
   "execution_count": null,
   "metadata": {},
   "outputs": [],
   "source": [
    "def get_label_function(desired_attr, df, desired_col):\n",
    "\n",
    "    def get_attr_column(row):\n",
    "        row = df[(df['label'] == desired_attr) & (df['year'] == row['year']) & (df['state'] == row['state'])][desired_col]\n",
    "        row = row.reset_index()\n",
    "        row = np.array(row)\n",
    "        to_return = row[0][1]\n",
    "        \n",
    "        return to_return\n",
    "    \n",
    "    return get_attr_column"
   ]
  },
  {
   "cell_type": "code",
   "execution_count": null,
   "metadata": {},
   "outputs": [],
   "source": [
    "attr = 'mean cash public assistance income (dollars)'\n",
    "unemployment_df[attr] = unemployment_df.apply(get_label_function(attr, income_df, 'estimate'), axis=1)\n",
    "unemployment_df"
   ]
  },
  {
   "cell_type": "code",
   "execution_count": null,
   "metadata": {},
   "outputs": [],
   "source": [
    "desired_attributes = industry_df['label'].unique()\n",
    "\n",
    "for i in range(1, len(desired_attributes)):\n",
    "    attr = desired_attributes[i]\n",
    "    unemployment_df[attr] = unemployment_df.apply(get_label_function(attr, industry_df, 'percent'), axis=1)"
   ]
  },
  {
   "cell_type": "code",
   "execution_count": null,
   "metadata": {},
   "outputs": [],
   "source": [
    "desired_attributes = worker_class_df['label'].unique()\n",
    "print(desired_attributes)\n",
    "\n",
    "for i in range(1, len(desired_attributes)):\n",
    "    attr = desired_attributes[i]\n",
    "    unemployment_df[attr] = unemployment_df.apply(get_label_function(attr, worker_class_df, 'percent'), axis=1)"
   ]
  },
  {
   "cell_type": "code",
   "execution_count": null,
   "metadata": {},
   "outputs": [],
   "source": [
    "unemployment_df = unemployment_df.drop(columns = ['labour_force_percent'])"
   ]
  },
  {
   "cell_type": "code",
   "execution_count": null,
   "metadata": {},
   "outputs": [],
   "source": [
    "print(unemployment_df.dtypes)\n",
    "for col in unemployment_df.columns[2:]:\n",
    "    unemployment_df[col] = (unemployment_df[col] - unemployment_df[col].min())/(unemployment_df[col].max() - unemployment_df[col].min())"
   ]
  },
  {
   "cell_type": "code",
   "execution_count": null,
   "metadata": {},
   "outputs": [],
   "source": [
    "for col in unemployment_df.columns[2:5]:\n",
    "    unemployment_df[col] = unemployment_df[col]/3\n",
    "\n",
    "for col in unemployment_df.columns[5:18]:\n",
    "    unemployment_df[col] = unemployment_df[col]/13\n",
    "\n",
    "for col in unemployment_df.columns[18:22]:\n",
    "    unemployment_df[col] = unemployment_df[col]/4"
   ]
  },
  {
   "cell_type": "code",
   "execution_count": null,
   "metadata": {},
   "outputs": [],
   "source": [
    "NEWNAME = 'state_data.csv'\n",
    "unemployment_df.to_csv('../udataset/' + NEWNAME, index=False)"
   ]
  }
 ],
 "metadata": {
  "kernelspec": {
   "display_name": ".venv",
   "language": "python",
   "name": "python3"
  },
  "language_info": {
   "codemirror_mode": {
    "name": "ipython",
    "version": 3
   },
   "file_extension": ".py",
   "mimetype": "text/x-python",
   "name": "python",
   "nbconvert_exporter": "python",
   "pygments_lexer": "ipython3",
   "version": "3.10.12"
  }
 },
 "nbformat": 4,
 "nbformat_minor": 2
}
