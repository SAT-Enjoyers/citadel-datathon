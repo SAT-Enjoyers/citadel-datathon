{
 "cells": [
  {
   "cell_type": "code",
   "execution_count": 1,
   "metadata": {},
   "outputs": [],
   "source": [
    "import pandas as pd\n",
    "import numpy as np"
   ]
  },
  {
   "cell_type": "code",
   "execution_count": 2,
   "metadata": {},
   "outputs": [
    {
     "name": "stderr",
     "output_type": "stream",
     "text": [
      "/tmp/ipykernel_5016/1955201767.py:3: DtypeWarning: Columns (18,19,21,22) have mixed types. Specify dtype option on import or set low_memory=False.\n",
      "  df = pd.read_csv(DIR + DATASET)\n"
     ]
    }
   ],
   "source": [
    "DIR = '../dataset/'\n",
    "DATASET = 'Nutrition_Physical_Activity_and_Obesity_Data.csv'\n",
    "df = pd.read_csv(DIR + DATASET)"
   ]
  },
  {
   "cell_type": "code",
   "execution_count": 3,
   "metadata": {},
   "outputs": [],
   "source": [
    "df.columns = df.columns.str.strip()\n",
    "\n",
    "for col in df.columns:\n",
    "    if df[col].dtype != np.dtypes.Int64DType:\n",
    "        continue\n",
    "\n",
    "    df[col] = df[col].str.rstrip()\n",
    "    df[col] = df[col].str.rstrip()\n",
    "\n",
    "df['Data_Value'] = df['Data_Value'].replace('', -1)\n",
    "df['Data_Value'] = df['Data_Value'].astype(float)"
   ]
  },
  {
   "cell_type": "code",
   "execution_count": 4,
   "metadata": {},
   "outputs": [
    {
     "data": {
      "text/html": [
       "<div>\n",
       "<style scoped>\n",
       "    .dataframe tbody tr th:only-of-type {\n",
       "        vertical-align: middle;\n",
       "    }\n",
       "\n",
       "    .dataframe tbody tr th {\n",
       "        vertical-align: top;\n",
       "    }\n",
       "\n",
       "    .dataframe thead th {\n",
       "        text-align: right;\n",
       "    }\n",
       "</style>\n",
       "<table border=\"1\" class=\"dataframe\">\n",
       "  <thead>\n",
       "    <tr style=\"text-align: right;\">\n",
       "      <th></th>\n",
       "      <th>state</th>\n",
       "      <th>year</th>\n",
       "    </tr>\n",
       "  </thead>\n",
       "  <tbody>\n",
       "    <tr>\n",
       "      <th>0</th>\n",
       "      <td>Alaska</td>\n",
       "      <td>2011</td>\n",
       "    </tr>\n",
       "    <tr>\n",
       "      <th>1</th>\n",
       "      <td>Alaska</td>\n",
       "      <td>2012</td>\n",
       "    </tr>\n",
       "    <tr>\n",
       "      <th>2</th>\n",
       "      <td>Alaska</td>\n",
       "      <td>2013</td>\n",
       "    </tr>\n",
       "    <tr>\n",
       "      <th>3</th>\n",
       "      <td>Alaska</td>\n",
       "      <td>2014</td>\n",
       "    </tr>\n",
       "    <tr>\n",
       "      <th>4</th>\n",
       "      <td>Alaska</td>\n",
       "      <td>2015</td>\n",
       "    </tr>\n",
       "    <tr>\n",
       "      <th>...</th>\n",
       "      <td>...</td>\n",
       "      <td>...</td>\n",
       "    </tr>\n",
       "    <tr>\n",
       "      <th>655</th>\n",
       "      <td>Oregon</td>\n",
       "      <td>2018</td>\n",
       "    </tr>\n",
       "    <tr>\n",
       "      <th>656</th>\n",
       "      <td>Oregon</td>\n",
       "      <td>2019</td>\n",
       "    </tr>\n",
       "    <tr>\n",
       "      <th>657</th>\n",
       "      <td>Oregon</td>\n",
       "      <td>2020</td>\n",
       "    </tr>\n",
       "    <tr>\n",
       "      <th>658</th>\n",
       "      <td>Oregon</td>\n",
       "      <td>2021</td>\n",
       "    </tr>\n",
       "    <tr>\n",
       "      <th>659</th>\n",
       "      <td>Oregon</td>\n",
       "      <td>2022</td>\n",
       "    </tr>\n",
       "  </tbody>\n",
       "</table>\n",
       "<p>660 rows × 2 columns</p>\n",
       "</div>"
      ],
      "text/plain": [
       "      state  year\n",
       "0    Alaska  2011\n",
       "1    Alaska  2012\n",
       "2    Alaska  2013\n",
       "3    Alaska  2014\n",
       "4    Alaska  2015\n",
       "..      ...   ...\n",
       "655  Oregon  2018\n",
       "656  Oregon  2019\n",
       "657  Oregon  2020\n",
       "658  Oregon  2021\n",
       "659  Oregon  2022\n",
       "\n",
       "[660 rows x 2 columns]"
      ]
     },
     "execution_count": 4,
     "metadata": {},
     "output_type": "execute_result"
    }
   ],
   "source": [
    "states = df['LocationDesc'].unique()\n",
    "years = list(range(2011, 2023))*len(states)\n",
    "states = np.repeat(states, 12)\n",
    "new_df = pd.DataFrame({'state': states, 'year': years})\n",
    "new_df"
   ]
  },
  {
   "cell_type": "code",
   "execution_count": 5,
   "metadata": {},
   "outputs": [],
   "source": [
    "#df.to_csv('../udataset/' + DATASET, index=False)\n",
    "\n",
    "def get_label_function(desired_question, df, desired_col):\n",
    "\n",
    "    def get_attr_column(row):\n",
    "        to_return = df[(df['Question'] == desired_question) & (df['YearEnd'] == row['year']) & (df['LocationDesc'] == row['state']) & (df['Data_Value'] != -1) & (df['StratificationCategory1'] == 'Total')][desired_col].mean()\n",
    "\n",
    "        return to_return\n",
    "\n",
    "    return get_attr_column"
   ]
  },
  {
   "cell_type": "code",
   "execution_count": 6,
   "metadata": {},
   "outputs": [],
   "source": [
    "desired_questions = ['Percent of adults aged 18 years and older who have obesity', 'Percent of adults aged 18 years and older who have an overweight classification', 'Percent of adults who engage in no leisure-time physical activity']\n",
    "column_names = ['obesity_adult_rate', 'overweight_adult_rate', 'adults_no_leisure-time_physical_activity']"
   ]
  },
  {
   "cell_type": "code",
   "execution_count": 7,
   "metadata": {},
   "outputs": [
    {
     "name": "stdout",
     "output_type": "stream",
     "text": [
      "24.929629629629627\n"
     ]
    }
   ],
   "source": [
    "row = df[(df['Question'] == 'Percent of adults aged 18 years and older who have obesity') & (df['YearEnd'] == 2012) & (df['LocationDesc'] == 'Alaska') & (df['Data_Value'] != -1)]['Data_Value']\n",
    "print(row.mean())\n",
    "for index, question in enumerate(desired_questions):\n",
    "    new_df[column_names[index]] = new_df.apply(get_label_function(question, df, 'Data_Value'), axis=1)"
   ]
  },
  {
   "cell_type": "code",
   "execution_count": 8,
   "metadata": {},
   "outputs": [
    {
     "data": {
      "text/html": [
       "<div>\n",
       "<style scoped>\n",
       "    .dataframe tbody tr th:only-of-type {\n",
       "        vertical-align: middle;\n",
       "    }\n",
       "\n",
       "    .dataframe tbody tr th {\n",
       "        vertical-align: top;\n",
       "    }\n",
       "\n",
       "    .dataframe thead th {\n",
       "        text-align: right;\n",
       "    }\n",
       "</style>\n",
       "<table border=\"1\" class=\"dataframe\">\n",
       "  <thead>\n",
       "    <tr style=\"text-align: right;\">\n",
       "      <th></th>\n",
       "      <th>state</th>\n",
       "      <th>year</th>\n",
       "      <th>obesity_adult_rate</th>\n",
       "      <th>overweight_adult_rate</th>\n",
       "      <th>adults_no_leisure-time_physical_activity</th>\n",
       "    </tr>\n",
       "  </thead>\n",
       "  <tbody>\n",
       "    <tr>\n",
       "      <th>0</th>\n",
       "      <td>Alaska</td>\n",
       "      <td>2011</td>\n",
       "      <td>27.4</td>\n",
       "      <td>38.9</td>\n",
       "      <td>22.0</td>\n",
       "    </tr>\n",
       "    <tr>\n",
       "      <th>1</th>\n",
       "      <td>Alaska</td>\n",
       "      <td>2012</td>\n",
       "      <td>25.7</td>\n",
       "      <td>39.1</td>\n",
       "      <td>18.5</td>\n",
       "    </tr>\n",
       "    <tr>\n",
       "      <th>2</th>\n",
       "      <td>Alaska</td>\n",
       "      <td>2013</td>\n",
       "      <td>28.4</td>\n",
       "      <td>37.7</td>\n",
       "      <td>22.3</td>\n",
       "    </tr>\n",
       "    <tr>\n",
       "      <th>3</th>\n",
       "      <td>Alaska</td>\n",
       "      <td>2014</td>\n",
       "      <td>29.7</td>\n",
       "      <td>35.1</td>\n",
       "      <td>19.2</td>\n",
       "    </tr>\n",
       "    <tr>\n",
       "      <th>4</th>\n",
       "      <td>Alaska</td>\n",
       "      <td>2015</td>\n",
       "      <td>29.8</td>\n",
       "      <td>37.4</td>\n",
       "      <td>22.0</td>\n",
       "    </tr>\n",
       "    <tr>\n",
       "      <th>...</th>\n",
       "      <td>...</td>\n",
       "      <td>...</td>\n",
       "      <td>...</td>\n",
       "      <td>...</td>\n",
       "      <td>...</td>\n",
       "    </tr>\n",
       "    <tr>\n",
       "      <th>655</th>\n",
       "      <td>Oregon</td>\n",
       "      <td>2018</td>\n",
       "      <td>29.9</td>\n",
       "      <td>34.2</td>\n",
       "      <td>19.3</td>\n",
       "    </tr>\n",
       "    <tr>\n",
       "      <th>656</th>\n",
       "      <td>Oregon</td>\n",
       "      <td>2019</td>\n",
       "      <td>29.0</td>\n",
       "      <td>34.9</td>\n",
       "      <td>23.9</td>\n",
       "    </tr>\n",
       "    <tr>\n",
       "      <th>657</th>\n",
       "      <td>Oregon</td>\n",
       "      <td>2020</td>\n",
       "      <td>28.1</td>\n",
       "      <td>36.2</td>\n",
       "      <td>18.5</td>\n",
       "    </tr>\n",
       "    <tr>\n",
       "      <th>658</th>\n",
       "      <td>Oregon</td>\n",
       "      <td>2021</td>\n",
       "      <td>30.4</td>\n",
       "      <td>34.7</td>\n",
       "      <td>19.9</td>\n",
       "    </tr>\n",
       "    <tr>\n",
       "      <th>659</th>\n",
       "      <td>Oregon</td>\n",
       "      <td>2022</td>\n",
       "      <td>30.9</td>\n",
       "      <td>36.0</td>\n",
       "      <td>19.0</td>\n",
       "    </tr>\n",
       "  </tbody>\n",
       "</table>\n",
       "<p>660 rows × 5 columns</p>\n",
       "</div>"
      ],
      "text/plain": [
       "      state  year  obesity_adult_rate  overweight_adult_rate  \\\n",
       "0    Alaska  2011                27.4                   38.9   \n",
       "1    Alaska  2012                25.7                   39.1   \n",
       "2    Alaska  2013                28.4                   37.7   \n",
       "3    Alaska  2014                29.7                   35.1   \n",
       "4    Alaska  2015                29.8                   37.4   \n",
       "..      ...   ...                 ...                    ...   \n",
       "655  Oregon  2018                29.9                   34.2   \n",
       "656  Oregon  2019                29.0                   34.9   \n",
       "657  Oregon  2020                28.1                   36.2   \n",
       "658  Oregon  2021                30.4                   34.7   \n",
       "659  Oregon  2022                30.9                   36.0   \n",
       "\n",
       "     adults_no_leisure-time_physical_activity  \n",
       "0                                        22.0  \n",
       "1                                        18.5  \n",
       "2                                        22.3  \n",
       "3                                        19.2  \n",
       "4                                        22.0  \n",
       "..                                        ...  \n",
       "655                                      19.3  \n",
       "656                                      23.9  \n",
       "657                                      18.5  \n",
       "658                                      19.9  \n",
       "659                                      19.0  \n",
       "\n",
       "[660 rows x 5 columns]"
      ]
     },
     "execution_count": 8,
     "metadata": {},
     "output_type": "execute_result"
    }
   ],
   "source": [
    "new_df"
   ]
  },
  {
   "cell_type": "code",
   "execution_count": 9,
   "metadata": {},
   "outputs": [],
   "source": [
    "for col in new_df.columns[2:]:\n",
    "    new_df[col] = (new_df[col] - new_df[col].min())/(new_df[col].max() - new_df[col].min())"
   ]
  },
  {
   "cell_type": "code",
   "execution_count": 10,
   "metadata": {},
   "outputs": [],
   "source": [
    "new_df = new_df[new_df['state'] !='Virgin Islands']\n",
    "\n",
    "for col in new_df.columns:\n",
    "    for state in new_df[pd.isna(new_df[col])]['state'].unique():\n",
    "        new_df.loc[new_df['state'] == state, col] = new_df[new_df['state'] == state][col].fillna(new_df[(new_df['state'] == state) & (pd.notna(new_df[col]))][col].mean())\n"
   ]
  },
  {
   "cell_type": "code",
   "execution_count": 11,
   "metadata": {},
   "outputs": [],
   "source": [
    "NEWNAME = 'health_data.csv'\n",
    "new_df.to_csv('../udataset/' + NEWNAME, index=False)"
   ]
  }
 ],
 "metadata": {
  "kernelspec": {
   "display_name": ".venv",
   "language": "python",
   "name": "python3"
  },
  "language_info": {
   "codemirror_mode": {
    "name": "ipython",
    "version": 3
   },
   "file_extension": ".py",
   "mimetype": "text/x-python",
   "name": "python",
   "nbconvert_exporter": "python",
   "pygments_lexer": "ipython3",
   "version": "3.10.12"
  }
 },
 "nbformat": 4,
 "nbformat_minor": 2
}
