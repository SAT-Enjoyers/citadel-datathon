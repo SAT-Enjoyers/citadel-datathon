{
 "cells": [
  {
   "cell_type": "code",
   "execution_count": null,
   "metadata": {},
   "outputs": [],
   "source": [
    "import pandas as pd\n",
    "import numpy as np"
   ]
  },
  {
   "cell_type": "code",
   "execution_count": null,
   "metadata": {},
   "outputs": [],
   "source": [
    "DIR = '../dataset/'\n",
    "DATASET = 'all_commodities.csv'\n",
    "df = pd.read_csv(DIR + DATASET)"
   ]
  },
  {
   "cell_type": "code",
   "execution_count": null,
   "metadata": {},
   "outputs": [],
   "source": [
    "df = df.rename(columns={'Date-Time': 'date', 'Value': 'value', 'Unit': 'unit', 'Commodity': 'commodity'})"
   ]
  },
  {
   "cell_type": "code",
   "execution_count": null,
   "metadata": {},
   "outputs": [],
   "source": [
    "# Fill in missing data\n",
    "df.loc[df['commodity'].isnull(), ['unit', 'commodity']] = ['Dollar per Metric Ton', 'Corn']"
   ]
  },
  {
   "cell_type": "code",
   "execution_count": null,
   "metadata": {},
   "outputs": [],
   "source": [
    "metric_tonne = 1 / 0.00045359237 # pounds\n",
    "\n",
    "def convert_unit(row):\n",
    "    if row['unit'] == 'Cents per Pound':\n",
    "        value_in_dollars_per_lb = row['value'] / 100\n",
    "        value_in_dollars_per_mt = value_in_dollars_per_lb * metric_tonne\n",
    "        row['value'] = round(value_in_dollars_per_mt, 7)\n",
    "        row['unit'] = 'Dollar per Metric Ton'\n",
    "    \n",
    "    return row\n",
    "\n",
    "df = df.apply(convert_unit, axis=1)"
   ]
  },
  {
   "cell_type": "code",
   "execution_count": null,
   "metadata": {},
   "outputs": [],
   "source": [
    "df.to_csv('../udataset/' + DATASET, index=False)"
   ]
  }
 ],
 "metadata": {
  "kernelspec": {
   "display_name": ".venv",
   "language": "python",
   "name": "python3"
  },
  "language_info": {
   "codemirror_mode": {
    "name": "ipython",
    "version": 3
   },
   "file_extension": ".py",
   "mimetype": "text/x-python",
   "name": "python",
   "nbconvert_exporter": "python",
   "pygments_lexer": "ipython3",
   "version": "3.10.12"
  }
 },
 "nbformat": 4,
 "nbformat_minor": 2
}
