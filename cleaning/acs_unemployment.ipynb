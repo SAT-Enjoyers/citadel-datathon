{
 "cells": [
  {
   "cell_type": "code",
   "execution_count": null,
   "metadata": {},
   "outputs": [],
   "source": [
    "import pandas as pd\n",
    "import numpy as np"
   ]
  },
  {
   "cell_type": "code",
   "execution_count": null,
   "metadata": {},
   "outputs": [],
   "source": [
    "DIR = '../dataset/'\n",
    "DATASET = 'acs_5yr_est_selected_economic_characteristics_2010-2022.csv'\n",
    "df = pd.read_csv(DIR + DATASET)"
   ]
  },
  {
   "cell_type": "markdown",
   "metadata": {},
   "source": [
    "Replace (X) with empty\n"
   ]
  },
  {
   "cell_type": "code",
   "execution_count": null,
   "metadata": {},
   "outputs": [],
   "source": [
    "df.columns = ['label', 'category', 'state', 'estimate', 'moe', 'percent', 'percent moe', 'year']\n",
    "df = df.replace(\"(X)\", \"\")\n",
    "df['percent'] = df['percent'].replace(\"%\", \"\")"
   ]
  },
  {
   "cell_type": "markdown",
   "metadata": {},
   "source": [
    "Strip and lower text rows"
   ]
  },
  {
   "cell_type": "code",
   "execution_count": null,
   "metadata": {},
   "outputs": [],
   "source": [
    "for col in df.columns:\n",
    "    if df[col].dtype == 'object':\n",
    "        df[col] = df[col].str.strip().str.lower()"
   ]
  },
  {
   "cell_type": "markdown",
   "metadata": {},
   "source": [
    "Working with employment status only"
   ]
  },
  {
   "cell_type": "code",
   "execution_count": null,
   "metadata": {},
   "outputs": [],
   "source": [
    "filtered_df = df[df['label'] == 'unemployed']\n",
    "drop_cols = ['label', 'moe', 'percent moe', 'category', 'percent']\n",
    "filtered_df = filtered_df.drop(drop_cols, axis=1)\n",
    "filtered_df"
   ]
  },
  {
   "cell_type": "markdown",
   "metadata": {},
   "source": [
    "Add % total unemployment to numbers"
   ]
  },
  {
   "cell_type": "code",
   "execution_count": null,
   "metadata": {},
   "outputs": [],
   "source": [
    "df_percent_unemployed = df[df['label'].isin(['percent unemployed', 'unemployment rate'])]\n",
    "keep_cols = ['state', 'percent', 'year']\n",
    "df_percent_unemployed = df_percent_unemployed[keep_cols]\n",
    "df_percent_unemployed['percent'] = df_percent_unemployed['percent'].str.replace(\"%\", \"\")\n",
    "df_percent_unemployed['percent'] = df_percent_unemployed['percent'].astype(float)\n",
    "df_percent_unemployed\n",
    "filtered_df = pd.merge(filtered_df, df_percent_unemployed, on=['state', 'year'], how='left')\n",
    "filtered_df = filtered_df.rename(columns={'percent': 'labour_force_percent'})\n",
    "filtered_df"
   ]
  },
  {
   "cell_type": "markdown",
   "metadata": {},
   "source": [
    "Check missing data"
   ]
  },
  {
   "cell_type": "code",
   "execution_count": null,
   "metadata": {},
   "outputs": [],
   "source": [
    "missing = filtered_df.isnull().sum()\n",
    "missing"
   ]
  },
  {
   "cell_type": "markdown",
   "metadata": {},
   "source": [
    "Sort by year then add to csv"
   ]
  },
  {
   "cell_type": "code",
   "execution_count": null,
   "metadata": {},
   "outputs": [],
   "source": [
    "filtered_df = filtered_df.sort_values(by=['state', 'year'])\n",
    "filtered_df"
   ]
  },
  {
   "cell_type": "code",
   "execution_count": null,
   "metadata": {},
   "outputs": [],
   "source": [
    "filtered_df.to_csv('../udataset/acs/unemployment.csv', index=False)"
   ]
  }
 ],
 "metadata": {
  "kernelspec": {
   "display_name": ".venv",
   "language": "python",
   "name": "python3"
  },
  "language_info": {
   "codemirror_mode": {
    "name": "ipython",
    "version": 3
   },
   "file_extension": ".py",
   "mimetype": "text/x-python",
   "name": "python",
   "nbconvert_exporter": "python",
   "pygments_lexer": "ipython3",
   "version": "3.12.2"
  }
 },
 "nbformat": 4,
 "nbformat_minor": 2
}
