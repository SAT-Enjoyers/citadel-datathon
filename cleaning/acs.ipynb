{
 "cells": [
  {
   "cell_type": "markdown",
   "metadata": {},
   "source": [
    "Import modules"
   ]
  },
  {
   "cell_type": "code",
   "execution_count": null,
   "metadata": {},
   "outputs": [],
   "source": [
    "import pandas as pd\n",
    "import numpy as np\n",
    "import os"
   ]
  },
  {
   "cell_type": "markdown",
   "metadata": {},
   "source": [
    "Declare constants and import the dataset"
   ]
  },
  {
   "cell_type": "code",
   "execution_count": null,
   "metadata": {},
   "outputs": [],
   "source": [
    "DIR = '../dataset/'\n",
    "OUT_DIR = '../udataset/acs'\n",
    "DATASET = 'acs_5yr_est_selected_economic_characteristics_2010-2022.csv'\n",
    "df = pd.read_csv(DIR + DATASET)"
   ]
  },
  {
   "cell_type": "markdown",
   "metadata": {},
   "source": [
    "Rename columns and remove missing values"
   ]
  },
  {
   "cell_type": "code",
   "execution_count": null,
   "metadata": {},
   "outputs": [],
   "source": [
    "df.columns = ['label', 'category', 'state', 'estimate', 'moe', 'percent', 'percent moe', 'year']\n",
    "df = df.replace(\"(X)\", \"\")"
   ]
  },
  {
   "cell_type": "markdown",
   "metadata": {},
   "source": [
    "Convert estimate to numeric"
   ]
  },
  {
   "cell_type": "code",
   "execution_count": null,
   "metadata": {},
   "outputs": [],
   "source": [
    "df['estimate'] = pd.to_numeric(df['estimate'].str.replace(',', ''), errors='coerce')"
   ]
  },
  {
   "cell_type": "markdown",
   "metadata": {},
   "source": [
    "Convert margin or error columns to numeric"
   ]
  },
  {
   "cell_type": "code",
   "execution_count": null,
   "metadata": {},
   "outputs": [],
   "source": [
    "df['moe'] = pd.to_numeric(df['moe'].str.replace('±', '').str.replace(',', ''), errors='coerce')\n",
    "df['percent moe'] = pd.to_numeric(df['percent moe'].str.replace('±', '').str.replace(',', ''), errors='coerce')"
   ]
  },
  {
   "cell_type": "markdown",
   "metadata": {},
   "source": [
    "Clean the percent column by removing percentage signs and replacing any non-percentages with 100%"
   ]
  },
  {
   "cell_type": "code",
   "execution_count": null,
   "metadata": {},
   "outputs": [],
   "source": [
    "def filter_percent(val):\n",
    "    if pd.isnull(val):\n",
    "        return val\n",
    "    if ',' in val and '%' not in val:\n",
    "        return 100\n",
    "    return val.replace('%', '')\n",
    "\n",
    "df['percent'] = df['percent'].apply(filter_percent)\n",
    "df['percent'] = pd.to_numeric(df['percent'], errors='coerce')"
   ]
  },
  {
   "cell_type": "markdown",
   "metadata": {},
   "source": [
    "Preview the cleaned dataset"
   ]
  },
  {
   "cell_type": "code",
   "execution_count": null,
   "metadata": {},
   "outputs": [],
   "source": [
    "df"
   ]
  },
  {
   "cell_type": "markdown",
   "metadata": {},
   "source": [
    "Look at the dtypes of the columns"
   ]
  },
  {
   "cell_type": "code",
   "execution_count": null,
   "metadata": {},
   "outputs": [],
   "source": [
    "df.dtypes"
   ]
  },
  {
   "cell_type": "markdown",
   "metadata": {},
   "source": [
    "Group the data by category of question asked, sort it chronologically, and output it"
   ]
  },
  {
   "cell_type": "code",
   "execution_count": null,
   "metadata": {},
   "outputs": [],
   "source": [
    "os.makedirs(OUT_DIR, exist_ok=True)\n",
    "\n",
    "grouping: dict[str,list] = {}\n",
    "current = None\n",
    "\n",
    "income_and_benefits = 'INCOME AND BENEFITS'\n",
    "poverty_line = 'POVERTY LEVEL'\n",
    "\n",
    "for _, row in df.iterrows():\n",
    "    cat: str = row['category']\n",
    "    label: str = row['label']\n",
    "\n",
    "    if label.startswith(income_and_benefits):\n",
    "        label = income_and_benefits\n",
    "        \n",
    "    if label.endswith(poverty_line):\n",
    "        label = 'PERCENT POVERTY LINE'\n",
    "\n",
    "    if cat == 'Header':\n",
    "        if not label in grouping:\n",
    "            grouping[label] = []\n",
    "        current = label\n",
    "    else:\n",
    "        grouping[current].append(row)\n",
    "\n",
    "for label, data in grouping.items():\n",
    "    df_label = pd.DataFrame(data)\n",
    "    df_label = df_label.drop(columns=['category'])\n",
    "    df_label = df_label.sort_values(by=[\"year\",\"state\"], ignore_index=True)\n",
    "    df_label.to_csv(f\"../udataset/acs/{label}.csv\", index=False)"
   ]
  }
 ],
 "metadata": {
  "kernelspec": {
   "display_name": ".venv",
   "language": "python",
   "name": "python3"
  },
  "language_info": {
   "codemirror_mode": {
    "name": "ipython",
    "version": 3
   },
   "file_extension": ".py",
   "mimetype": "text/x-python",
   "name": "python",
   "nbconvert_exporter": "python",
   "pygments_lexer": "ipython3",
   "version": "3.10.12"
  }
 },
 "nbformat": 4,
 "nbformat_minor": 2
}
