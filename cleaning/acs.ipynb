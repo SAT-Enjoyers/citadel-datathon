{
 "cells": [
  {
   "cell_type": "markdown",
   "metadata": {},
   "source": [
    "Import modules"
   ]
  },
  {
   "cell_type": "code",
   "execution_count": 80,
   "metadata": {},
   "outputs": [],
   "source": [
    "import pandas as pd\n",
    "import numpy as np\n",
    "import os"
   ]
  },
  {
   "cell_type": "markdown",
   "metadata": {},
   "source": [
    "Declare constants and import the dataset"
   ]
  },
  {
   "cell_type": "code",
   "execution_count": 81,
   "metadata": {},
   "outputs": [],
   "source": [
    "DIR = '../dataset/'\n",
    "OUT_DIR = '../udataset/acs'\n",
    "DATASET = 'acs_5yr_est_selected_economic_characteristics_2010-2022.csv'\n",
    "df = pd.read_csv(DIR + DATASET)"
   ]
  },
  {
   "cell_type": "markdown",
   "metadata": {},
   "source": [
    "Rename columns and remove missing values"
   ]
  },
  {
   "cell_type": "code",
   "execution_count": 82,
   "metadata": {},
   "outputs": [],
   "source": [
    "df.columns = ['label', 'category', 'state', 'estimate', 'moe', 'percent', 'percent moe', 'year']\n",
    "df = df.replace(\"(X)\", \"\")"
   ]
  },
  {
   "cell_type": "markdown",
   "metadata": {},
   "source": [
    "Convert estimate to numeric"
   ]
  },
  {
   "cell_type": "code",
   "execution_count": 83,
   "metadata": {},
   "outputs": [],
   "source": [
    "df['estimate'] = pd.to_numeric(df['estimate'].str.replace(',', ''), errors='coerce')"
   ]
  },
  {
   "cell_type": "markdown",
   "metadata": {},
   "source": [
    "Convert margin or error columns to numeric"
   ]
  },
  {
   "cell_type": "code",
   "execution_count": 84,
   "metadata": {},
   "outputs": [],
   "source": [
    "df['moe'] = pd.to_numeric(df['moe'].str.replace('±', '').str.replace(',', ''), errors='coerce')\n",
    "df['percent moe'] = pd.to_numeric(df['percent moe'].str.replace('±', '').str.replace(',', ''), errors='coerce')"
   ]
  },
  {
   "cell_type": "markdown",
   "metadata": {},
   "source": [
    "Clean the percent column by removing percentage signs and replacing any non-percentages with 100%"
   ]
  },
  {
   "cell_type": "code",
   "execution_count": 85,
   "metadata": {},
   "outputs": [],
   "source": [
    "def filter_percent(val):\n",
    "    if pd.isnull(val):\n",
    "        return val\n",
    "    if ',' in val and '%' not in val:\n",
    "        return 100\n",
    "    return val.replace('%', '')\n",
    "\n",
    "df['percent'] = df['percent'].apply(filter_percent)\n",
    "df['percent'] = pd.to_numeric(df['percent'], errors='coerce')"
   ]
  },
  {
   "cell_type": "markdown",
   "metadata": {},
   "source": [
    "Preview the cleaned dataset"
   ]
  },
  {
   "cell_type": "code",
   "execution_count": 86,
   "metadata": {},
   "outputs": [
    {
     "data": {
      "text/html": [
       "<div>\n",
       "<style scoped>\n",
       "    .dataframe tbody tr th:only-of-type {\n",
       "        vertical-align: middle;\n",
       "    }\n",
       "\n",
       "    .dataframe tbody tr th {\n",
       "        vertical-align: top;\n",
       "    }\n",
       "\n",
       "    .dataframe thead th {\n",
       "        text-align: right;\n",
       "    }\n",
       "</style>\n",
       "<table border=\"1\" class=\"dataframe\">\n",
       "  <thead>\n",
       "    <tr style=\"text-align: right;\">\n",
       "      <th></th>\n",
       "      <th>label</th>\n",
       "      <th>category</th>\n",
       "      <th>state</th>\n",
       "      <th>estimate</th>\n",
       "      <th>moe</th>\n",
       "      <th>percent</th>\n",
       "      <th>percent moe</th>\n",
       "      <th>year</th>\n",
       "    </tr>\n",
       "  </thead>\n",
       "  <tbody>\n",
       "    <tr>\n",
       "      <th>0</th>\n",
       "      <td>EMPLOYMENT STATUS</td>\n",
       "      <td>Header</td>\n",
       "      <td>Alabama</td>\n",
       "      <td>NaN</td>\n",
       "      <td>NaN</td>\n",
       "      <td>NaN</td>\n",
       "      <td>NaN</td>\n",
       "      <td>2010</td>\n",
       "    </tr>\n",
       "    <tr>\n",
       "      <th>1</th>\n",
       "      <td>Population 16 years and over</td>\n",
       "      <td>EMPLOYMENT STATUS</td>\n",
       "      <td>Alabama</td>\n",
       "      <td>3714504.0</td>\n",
       "      <td>1588.0</td>\n",
       "      <td>100.0</td>\n",
       "      <td>NaN</td>\n",
       "      <td>2010</td>\n",
       "    </tr>\n",
       "    <tr>\n",
       "      <th>2</th>\n",
       "      <td>In labor force</td>\n",
       "      <td>EMPLOYMENT STATUS</td>\n",
       "      <td>Alabama</td>\n",
       "      <td>2246848.0</td>\n",
       "      <td>5576.0</td>\n",
       "      <td>60.5</td>\n",
       "      <td>0.1</td>\n",
       "      <td>2010</td>\n",
       "    </tr>\n",
       "    <tr>\n",
       "      <th>3</th>\n",
       "      <td>Civilian labor force</td>\n",
       "      <td>EMPLOYMENT STATUS</td>\n",
       "      <td>Alabama</td>\n",
       "      <td>2230879.0</td>\n",
       "      <td>5531.0</td>\n",
       "      <td>60.1</td>\n",
       "      <td>0.1</td>\n",
       "      <td>2010</td>\n",
       "    </tr>\n",
       "    <tr>\n",
       "      <th>4</th>\n",
       "      <td>Employed</td>\n",
       "      <td>EMPLOYMENT STATUS</td>\n",
       "      <td>Alabama</td>\n",
       "      <td>2036867.0</td>\n",
       "      <td>5904.0</td>\n",
       "      <td>54.8</td>\n",
       "      <td>0.2</td>\n",
       "      <td>2010</td>\n",
       "    </tr>\n",
       "    <tr>\n",
       "      <th>...</th>\n",
       "      <td>...</td>\n",
       "      <td>...</td>\n",
       "      <td>...</td>\n",
       "      <td>...</td>\n",
       "      <td>...</td>\n",
       "      <td>...</td>\n",
       "      <td>...</td>\n",
       "      <td>...</td>\n",
       "    </tr>\n",
       "    <tr>\n",
       "      <th>98015</th>\n",
       "      <td>18 years and over</td>\n",
       "      <td>PERCENTAGE OF FAMILIES AND PEOPLE WHOSE INCOME...</td>\n",
       "      <td>Puerto Rico</td>\n",
       "      <td>NaN</td>\n",
       "      <td>NaN</td>\n",
       "      <td>39.7</td>\n",
       "      <td>0.4</td>\n",
       "      <td>2021</td>\n",
       "    </tr>\n",
       "    <tr>\n",
       "      <th>98016</th>\n",
       "      <td>18 to 64 years</td>\n",
       "      <td>PERCENTAGE OF FAMILIES AND PEOPLE WHOSE INCOME...</td>\n",
       "      <td>Puerto Rico</td>\n",
       "      <td>NaN</td>\n",
       "      <td>NaN</td>\n",
       "      <td>40.1</td>\n",
       "      <td>0.4</td>\n",
       "      <td>2021</td>\n",
       "    </tr>\n",
       "    <tr>\n",
       "      <th>98017</th>\n",
       "      <td>65 years and over</td>\n",
       "      <td>PERCENTAGE OF FAMILIES AND PEOPLE WHOSE INCOME...</td>\n",
       "      <td>Puerto Rico</td>\n",
       "      <td>NaN</td>\n",
       "      <td>NaN</td>\n",
       "      <td>38.5</td>\n",
       "      <td>0.5</td>\n",
       "      <td>2021</td>\n",
       "    </tr>\n",
       "    <tr>\n",
       "      <th>98018</th>\n",
       "      <td>People in families</td>\n",
       "      <td>PERCENTAGE OF FAMILIES AND PEOPLE WHOSE INCOME...</td>\n",
       "      <td>Puerto Rico</td>\n",
       "      <td>NaN</td>\n",
       "      <td>NaN</td>\n",
       "      <td>40.0</td>\n",
       "      <td>0.4</td>\n",
       "      <td>2021</td>\n",
       "    </tr>\n",
       "    <tr>\n",
       "      <th>98019</th>\n",
       "      <td>Unrelated individuals 15 years and over</td>\n",
       "      <td>PERCENTAGE OF FAMILIES AND PEOPLE WHOSE INCOME...</td>\n",
       "      <td>Puerto Rico</td>\n",
       "      <td>NaN</td>\n",
       "      <td>NaN</td>\n",
       "      <td>55.3</td>\n",
       "      <td>0.4</td>\n",
       "      <td>2021</td>\n",
       "    </tr>\n",
       "  </tbody>\n",
       "</table>\n",
       "<p>98020 rows × 8 columns</p>\n",
       "</div>"
      ],
      "text/plain": [
       "                                         label  \\\n",
       "0                            EMPLOYMENT STATUS   \n",
       "1                 Population 16 years and over   \n",
       "2                               In labor force   \n",
       "3                         Civilian labor force   \n",
       "4                                     Employed   \n",
       "...                                        ...   \n",
       "98015                        18 years and over   \n",
       "98016                           18 to 64 years   \n",
       "98017                        65 years and over   \n",
       "98018                       People in families   \n",
       "98019  Unrelated individuals 15 years and over   \n",
       "\n",
       "                                                category        state  \\\n",
       "0                                                 Header      Alabama   \n",
       "1                                      EMPLOYMENT STATUS      Alabama   \n",
       "2                                      EMPLOYMENT STATUS      Alabama   \n",
       "3                                      EMPLOYMENT STATUS      Alabama   \n",
       "4                                      EMPLOYMENT STATUS      Alabama   \n",
       "...                                                  ...          ...   \n",
       "98015  PERCENTAGE OF FAMILIES AND PEOPLE WHOSE INCOME...  Puerto Rico   \n",
       "98016  PERCENTAGE OF FAMILIES AND PEOPLE WHOSE INCOME...  Puerto Rico   \n",
       "98017  PERCENTAGE OF FAMILIES AND PEOPLE WHOSE INCOME...  Puerto Rico   \n",
       "98018  PERCENTAGE OF FAMILIES AND PEOPLE WHOSE INCOME...  Puerto Rico   \n",
       "98019  PERCENTAGE OF FAMILIES AND PEOPLE WHOSE INCOME...  Puerto Rico   \n",
       "\n",
       "        estimate     moe  percent  percent moe  year  \n",
       "0            NaN     NaN      NaN          NaN  2010  \n",
       "1      3714504.0  1588.0    100.0          NaN  2010  \n",
       "2      2246848.0  5576.0     60.5          0.1  2010  \n",
       "3      2230879.0  5531.0     60.1          0.1  2010  \n",
       "4      2036867.0  5904.0     54.8          0.2  2010  \n",
       "...          ...     ...      ...          ...   ...  \n",
       "98015        NaN     NaN     39.7          0.4  2021  \n",
       "98016        NaN     NaN     40.1          0.4  2021  \n",
       "98017        NaN     NaN     38.5          0.5  2021  \n",
       "98018        NaN     NaN     40.0          0.4  2021  \n",
       "98019        NaN     NaN     55.3          0.4  2021  \n",
       "\n",
       "[98020 rows x 8 columns]"
      ]
     },
     "execution_count": 86,
     "metadata": {},
     "output_type": "execute_result"
    }
   ],
   "source": [
    "df"
   ]
  },
  {
   "cell_type": "markdown",
   "metadata": {},
   "source": [
    "Look at the dtypes of the columns"
   ]
  },
  {
   "cell_type": "code",
   "execution_count": 87,
   "metadata": {},
   "outputs": [
    {
     "data": {
      "text/plain": [
       "label           object\n",
       "category        object\n",
       "state           object\n",
       "estimate       float64\n",
       "moe            float64\n",
       "percent        float64\n",
       "percent moe    float64\n",
       "year             int64\n",
       "dtype: object"
      ]
     },
     "execution_count": 87,
     "metadata": {},
     "output_type": "execute_result"
    }
   ],
   "source": [
    "df.dtypes"
   ]
  },
  {
   "cell_type": "markdown",
   "metadata": {},
   "source": [
    "Group the data by category of question asked, sort it chronologically, and output it"
   ]
  },
  {
   "cell_type": "code",
   "execution_count": 89,
   "metadata": {},
   "outputs": [],
   "source": [
    "os.makedirs(OUT_DIR, exist_ok=True)\n",
    "\n",
    "grouping: dict[str,list] = {}\n",
    "current = None\n",
    "\n",
    "income_and_benefits = 'INCOME AND BENEFITS'\n",
    "poverty_line = 'POVERTY LEVEL'\n",
    "\n",
    "for _, row in df.iterrows():\n",
    "    cat: str = row['category']\n",
    "    label: str = row['label']\n",
    "\n",
    "    if label.startswith(income_and_benefits):\n",
    "        label = income_and_benefits\n",
    "        \n",
    "    if label.endswith(poverty_line):\n",
    "        label = 'PERCENT POVERTY LINE'\n",
    "\n",
    "    if cat == 'Header':\n",
    "        if not label in grouping:\n",
    "            grouping[label] = []\n",
    "        current = label\n",
    "    else:\n",
    "        grouping[current].append(row)\n",
    "\n",
    "for label, data in grouping.items():\n",
    "    df_label = pd.DataFrame(data)\n",
    "    df_label = df_label.drop(columns=['category'])\n",
    "    df_label = df_label.sort_values(by=[\"year\",\"state\"], ignore_index=True)\n",
    "    df_label.to_csv(f\"../udataset/acs/{label}.csv\", index=False)"
   ]
  }
 ],
 "metadata": {
  "kernelspec": {
   "display_name": ".venv",
   "language": "python",
   "name": "python3"
  },
  "language_info": {
   "codemirror_mode": {
    "name": "ipython",
    "version": 3
   },
   "file_extension": ".py",
   "mimetype": "text/x-python",
   "name": "python",
   "nbconvert_exporter": "python",
   "pygments_lexer": "ipython3",
   "version": "3.10.12"
  }
 },
 "nbformat": 4,
 "nbformat_minor": 2
}
