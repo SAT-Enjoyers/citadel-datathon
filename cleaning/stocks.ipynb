{
 "cells": [
  {
   "cell_type": "code",
   "execution_count": 1,
   "metadata": {},
   "outputs": [],
   "source": [
    "import pandas as pd"
   ]
  },
  {
   "cell_type": "code",
   "execution_count": 3,
   "metadata": {},
   "outputs": [],
   "source": [
    "df_stock_desc = pd.read_csv('../dataset/stock_descriptions.csv')\n",
    "df_all_stock = pd.read_csv('../dataset/all_stock_and_etfs.csv')\n",
    "\n",
    "df_stock_desc.columns = df_stock_desc.columns.str.strip()\n",
    "\n",
    "df_stock_desc['Sector'] = df_stock_desc['Sector'].str.strip()\n",
    "df_stock_desc['Symbol'] = df_stock_desc['Symbol'].str.strip()\n",
    "\n",
    "df_filter_symbols = df_stock_desc[df_stock_desc['Sector'].isin(['TRADE & SERVICES', 'MANUFACTURING', 'MULTIPLE'])]\n",
    "\n",
    "chosen_symbols = df_filter_symbols['Symbol'].unique()\n",
    "\n",
    "# Filter the all stock prices data frame for these corrected symbols\n",
    "df_filtered_stock = df_all_stock[df_all_stock['Ticker_Symbol'].isin(chosen_symbols)]\n",
    "\n",
    "# Display the number of unique symbols selected and the first few rows of the filtered stock prices data frame\n",
    "df_filtered_stock.to_csv('../dataset/filtered_stock.csv', index=False)"
   ]
  }
 ],
 "metadata": {
  "kernelspec": {
   "display_name": ".venv",
   "language": "python",
   "name": "python3"
  },
  "language_info": {
   "codemirror_mode": {
    "name": "ipython",
    "version": 3
   },
   "file_extension": ".py",
   "mimetype": "text/x-python",
   "name": "python",
   "nbconvert_exporter": "python",
   "pygments_lexer": "ipython3",
   "version": "3.12.2"
  }
 },
 "nbformat": 4,
 "nbformat_minor": 2
}
