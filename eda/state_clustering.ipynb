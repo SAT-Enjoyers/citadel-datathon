{
 "cells": [
  {
   "cell_type": "markdown",
   "metadata": {},
   "source": [
    "Imports\n"
   ]
  },
  {
   "cell_type": "code",
   "execution_count": 1,
   "metadata": {},
   "outputs": [],
   "source": [
    "import pandas as pd\n",
    "from sklearn.cluster import KMeans\n",
    "from sklearn.preprocessing import StandardScaler\n",
    "import matplotlib.pyplot as plt\n",
    "import seaborn as sns"
   ]
  },
  {
   "cell_type": "markdown",
   "metadata": {},
   "source": [
    "Load data"
   ]
  },
  {
   "cell_type": "code",
   "execution_count": null,
   "metadata": {},
   "outputs": [],
   "source": [
    "data_path = \"../dataset/states_socioeconomics.csv\"\n",
    "df = pd.read_csv(data_path)\n",
    "state = df['State']"
   ]
  },
  {
   "cell_type": "markdown",
   "metadata": {},
   "source": [
    "Predict clusters"
   ]
  },
  {
   "cell_type": "code",
   "execution_count": null,
   "metadata": {},
   "outputs": [],
   "source": [
    "# Drop the state column\n",
    "features = df.drop(['state'], axis=1)\n",
    "\n",
    "start_year = 2012\n",
    "end_year = 2022\n",
    "df['cluster'] = pd.NA\n",
    "\n",
    "num_clusters = 3\n",
    "for year in range(start_year, end_year + 1):\n",
    "    kmeans = KMeans(n_clusters=num_clusters, random_state=0)\n",
    "    year_features = features[features['year'] == year].drop(['year'], axis=1)\n",
    "    cluster = kmeans.fit_predict(year_features)\n",
    "    df.loc[df['year'] == year, 'cluster'] = cluster\n",
    "    \n",
    "df"
   ]
  }
 ],
 "metadata": {
  "kernelspec": {
   "display_name": ".venv",
   "language": "python",
   "name": "python3"
  },
  "language_info": {
   "codemirror_mode": {
    "name": "ipython",
    "version": 3
   },
   "file_extension": ".py",
   "mimetype": "text/x-python",
   "name": "python",
   "nbconvert_exporter": "python",
   "pygments_lexer": "ipython3",
   "version": "3.10.12"
  }
 },
 "nbformat": 4,
 "nbformat_minor": 2
}
