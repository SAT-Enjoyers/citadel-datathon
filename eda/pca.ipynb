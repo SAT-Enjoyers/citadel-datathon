{
 "cells": [
  {
   "cell_type": "code",
   "execution_count": null,
   "metadata": {},
   "outputs": [],
   "source": [
    "import pandas as pd\n",
    "import numpy as np\n",
    "import matplotlib.pyplot as plt\n",
    "import seaborn as sns\n",
    "from sklearn.decomposition import PCA\n",
    "from sklearn.preprocessing import StandardScaler"
   ]
  },
  {
   "cell_type": "code",
   "execution_count": null,
   "metadata": {},
   "outputs": [],
   "source": [
    "df = pd.read_csv('../udataset/acs/EMPLOYMENT STATUS.csv')\n",
    "\n",
    "df = df.dropna()\n",
    "\n",
    "# Flatten headers and subheaders\n",
    "df.columns = ['_'.join(col) for col in df.columns]\n",
    "\n",
    "# Convert categorical variables to numerical\n",
    "df = pd.get_dummies(df)\n",
    "\n",
    "# Standardize the features\n",
    "scaler = StandardScaler()\n",
    "df_scaled = scaler.fit_transform(df)\n",
    "\n",
    "# Apply PCA\n",
    "pca = PCA(n_components=2)\n",
    "principalComponents = pca.fit_transform(df_scaled)\n",
    "\n",
    "# Convert to DataFrame\n",
    "principalDf = pd.DataFrame(data=principalComponents, columns=['PC1', 'PC2'])\n",
    "\n",
    "# Print explained variance ratio\n",
    "print(pca.explained_variance_ratio_)\n",
    "\n",
    "sns.scatterplot(x='PC1', y='PC2', data=principalDf)\n",
    "plt.xlabel('PC1')\n",
    "plt.ylabel('PC2')\n",
    "plt.title('PCA Scatter Plot')\n",
    "plt.show()\n",
    "\n",
    "plt.plot(range(1, len(pca.explained_variance_ratio_) + 1), \n",
    "         np.cumsum(pca.explained_variance_ratio_))\n",
    "plt.xlabel('Number of Components')\n",
    "plt.ylabel('Cumulative Explained Variance')\n",
    "plt.title('Explained Variance by Components')\n",
    "plt.show()\n"
   ]
  }
 ],
 "metadata": {
  "kernelspec": {
   "display_name": ".venv",
   "language": "python",
   "name": "python3"
  },
  "language_info": {
   "codemirror_mode": {
    "name": "ipython",
    "version": 3
   },
   "file_extension": ".py",
   "mimetype": "text/x-python",
   "name": "python",
   "nbconvert_exporter": "python",
   "pygments_lexer": "ipython3",
   "version": "3.12.2"
  }
 },
 "nbformat": 4,
 "nbformat_minor": 2
}
