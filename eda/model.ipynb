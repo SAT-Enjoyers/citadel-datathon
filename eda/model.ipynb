{
 "cells": [
  {
   "cell_type": "code",
   "execution_count": 249,
   "metadata": {},
   "outputs": [],
   "source": [
    "import numpy as np\n",
    "import pandas as pd\n",
    "import xgboost as xgb\n",
    "from numpy import absolute\n",
    "from sklearn.model_selection import cross_val_score\n",
    "from sklearn.model_selection import RepeatedKFold\n",
    "from sklearn.preprocessing import LabelEncoder"
   ]
  },
  {
   "cell_type": "code",
   "execution_count": 250,
   "metadata": {},
   "outputs": [
    {
     "name": "stdout",
     "output_type": "stream",
     "text": [
      "<class 'pandas.core.frame.DataFrame'>\n",
      "RangeIndex: 676 entries, 0 to 675\n",
      "Data columns (total 6 columns):\n",
      " #   Column                                        Non-Null Count  Dtype  \n",
      "---  ------                                        --------------  -----  \n",
      " 0   Unnamed: 0                                    676 non-null    int64  \n",
      " 1   state                                         676 non-null    object \n",
      " 2   year                                          676 non-null    int64  \n",
      " 3   below_poverty_line_percent                    676 non-null    float64\n",
      " 4   median_household_income                       676 non-null    float64\n",
      " 5   mean cash public assistance income (dollars)  676 non-null    float64\n",
      "dtypes: float64(3), int64(2), object(1)\n",
      "memory usage: 31.8+ KB\n",
      "None\n",
      "5\n"
     ]
    }
   ],
   "source": [
    "df = pd.read_csv('../udataset/wealth_data.csv') # Using meat production as example\n",
    "\n",
    "unemployment_data_df = pd.read_csv('../udataset/unemployment_by_state.csv')\n",
    "\n",
    "health_data_df = pd.read_csv('../udataset/health_data.csv')\n",
    "\n",
    "commodity_data_df = pd.read_csv('../udataset/all_commodities.csv')\n",
    "\n",
    "meat_df = pd.read_csv('../udataset/meat/production.csv')\n",
    "meat_df = meat_df[meat_df['DateTime'].str.contains(r'-12')]\n",
    "meat_df = meat_df.rename(columns={'DateTime': 'year'})\n",
    "meat_df['year'] = meat_df['year'].str.slice(0, 4)\n",
    "meat_df['year'] = meat_df['year'].astype(int)\n",
    "\n",
    "\n",
    "\n",
    "unemployment_data_df = unemployment_data_df.rename(columns={'State': 'state'})\n",
    "\n",
    "#unemployment_data_df.drop(columns=['YearMonth'], inplace=True)\n",
    "unemployment_data_df = unemployment_data_df[unemployment_data_df['YearMonth'].str.contains(r'-12')]\n",
    "unemployment_data_df = unemployment_data_df.rename(columns={'YearMonth': 'year'})\n",
    "unemployment_data_df['year'] = unemployment_data_df['year'].str.slice(0, 4)\n",
    "unemployment_data_df['year'] = unemployment_data_df['year'].astype(int)\n",
    "\n",
    "#health_data_df.drop(columns=['year'], inplace=True)\n",
    "health_data_df['state'] = health_data_df['state'].str.lower()\n",
    "\n",
    "commodity_data_df.drop(columns=['date'], inplace=True)\n",
    "# commodity_data_df['year'] = pd.to_datetime(commodity_data_df['date']).dt.year\n",
    "# commodity_data_df.drop(columns = ['date'], inplace=True)\n",
    "\n",
    "# df = df.merge(unemployment_data_df, on=['year', 'state'], how='left')\n",
    "# df = df.merge(health_data_df, on=['year', 'state'], how='left')\n",
    "# df = df.merge(meat_df, on = ['year'], how='left')\n",
    "\n",
    "print(df.info())\n",
    "\n",
    "# TODO - Charles u sure we don't need time series data?\n",
    "# df = df.merge(commodity_data_df, on='year', how='left')\n",
    "\n",
    "\n",
    "#df = df.drop(columns=['below_poverty_line_percent'])\n",
    "df = df.drop(columns=['Unnamed: 0'])\n",
    "df = df[df['year'] > 2010]\n",
    "print(df.shape[1])\n",
    "model = xgb.XGBRegressor(n_estimators=1000, max_depth=7, eta=0.1, subsample=0.7, colsample_bytree=0.8)\n",
    "\n",
    "\n",
    "\n",
    "# def format(df):\n",
    "#     for col in df.columns:\n",
    "#         df[f'tmp_{col}'] = df[col].shift(1)\n",
    "\n",
    "#     return df\n"
   ]
  },
  {
   "cell_type": "code",
   "execution_count": 251,
   "metadata": {},
   "outputs": [
    {
     "data": {
      "text/html": [
       "<div>\n",
       "<style scoped>\n",
       "    .dataframe tbody tr th:only-of-type {\n",
       "        vertical-align: middle;\n",
       "    }\n",
       "\n",
       "    .dataframe tbody tr th {\n",
       "        vertical-align: top;\n",
       "    }\n",
       "\n",
       "    .dataframe thead th {\n",
       "        text-align: right;\n",
       "    }\n",
       "</style>\n",
       "<table border=\"1\" class=\"dataframe\">\n",
       "  <thead>\n",
       "    <tr style=\"text-align: right;\">\n",
       "      <th></th>\n",
       "      <th>state</th>\n",
       "      <th>year</th>\n",
       "      <th>obesity_adult_rate</th>\n",
       "      <th>overweight_adult_rate</th>\n",
       "      <th>adults_no_leisure-time_physical_activity</th>\n",
       "    </tr>\n",
       "  </thead>\n",
       "  <tbody>\n",
       "    <tr>\n",
       "      <th>0</th>\n",
       "      <td>alaska</td>\n",
       "      <td>2011</td>\n",
       "      <td>0.346154</td>\n",
       "      <td>0.98</td>\n",
       "      <td>0.177378</td>\n",
       "    </tr>\n",
       "    <tr>\n",
       "      <th>1</th>\n",
       "      <td>alaska</td>\n",
       "      <td>2012</td>\n",
       "      <td>0.264423</td>\n",
       "      <td>1.00</td>\n",
       "      <td>0.087404</td>\n",
       "    </tr>\n",
       "    <tr>\n",
       "      <th>2</th>\n",
       "      <td>alaska</td>\n",
       "      <td>2013</td>\n",
       "      <td>0.394231</td>\n",
       "      <td>0.86</td>\n",
       "      <td>0.185090</td>\n",
       "    </tr>\n",
       "    <tr>\n",
       "      <th>3</th>\n",
       "      <td>alaska</td>\n",
       "      <td>2014</td>\n",
       "      <td>0.456731</td>\n",
       "      <td>0.60</td>\n",
       "      <td>0.105398</td>\n",
       "    </tr>\n",
       "    <tr>\n",
       "      <th>4</th>\n",
       "      <td>alaska</td>\n",
       "      <td>2015</td>\n",
       "      <td>0.461538</td>\n",
       "      <td>0.83</td>\n",
       "      <td>0.177378</td>\n",
       "    </tr>\n",
       "    <tr>\n",
       "      <th>...</th>\n",
       "      <td>...</td>\n",
       "      <td>...</td>\n",
       "      <td>...</td>\n",
       "      <td>...</td>\n",
       "      <td>...</td>\n",
       "    </tr>\n",
       "    <tr>\n",
       "      <th>643</th>\n",
       "      <td>oregon</td>\n",
       "      <td>2018</td>\n",
       "      <td>0.466346</td>\n",
       "      <td>0.51</td>\n",
       "      <td>0.107969</td>\n",
       "    </tr>\n",
       "    <tr>\n",
       "      <th>644</th>\n",
       "      <td>oregon</td>\n",
       "      <td>2019</td>\n",
       "      <td>0.423077</td>\n",
       "      <td>0.58</td>\n",
       "      <td>0.226221</td>\n",
       "    </tr>\n",
       "    <tr>\n",
       "      <th>645</th>\n",
       "      <td>oregon</td>\n",
       "      <td>2020</td>\n",
       "      <td>0.379808</td>\n",
       "      <td>0.71</td>\n",
       "      <td>0.087404</td>\n",
       "    </tr>\n",
       "    <tr>\n",
       "      <th>646</th>\n",
       "      <td>oregon</td>\n",
       "      <td>2021</td>\n",
       "      <td>0.490385</td>\n",
       "      <td>0.56</td>\n",
       "      <td>0.123393</td>\n",
       "    </tr>\n",
       "    <tr>\n",
       "      <th>647</th>\n",
       "      <td>oregon</td>\n",
       "      <td>2022</td>\n",
       "      <td>0.514423</td>\n",
       "      <td>0.69</td>\n",
       "      <td>0.100257</td>\n",
       "    </tr>\n",
       "  </tbody>\n",
       "</table>\n",
       "<p>648 rows × 5 columns</p>\n",
       "</div>"
      ],
      "text/plain": [
       "      state  year  obesity_adult_rate  overweight_adult_rate  \\\n",
       "0    alaska  2011            0.346154                   0.98   \n",
       "1    alaska  2012            0.264423                   1.00   \n",
       "2    alaska  2013            0.394231                   0.86   \n",
       "3    alaska  2014            0.456731                   0.60   \n",
       "4    alaska  2015            0.461538                   0.83   \n",
       "..      ...   ...                 ...                    ...   \n",
       "643  oregon  2018            0.466346                   0.51   \n",
       "644  oregon  2019            0.423077                   0.58   \n",
       "645  oregon  2020            0.379808                   0.71   \n",
       "646  oregon  2021            0.490385                   0.56   \n",
       "647  oregon  2022            0.514423                   0.69   \n",
       "\n",
       "     adults_no_leisure-time_physical_activity  \n",
       "0                                    0.177378  \n",
       "1                                    0.087404  \n",
       "2                                    0.185090  \n",
       "3                                    0.105398  \n",
       "4                                    0.177378  \n",
       "..                                        ...  \n",
       "643                                  0.107969  \n",
       "644                                  0.226221  \n",
       "645                                  0.087404  \n",
       "646                                  0.123393  \n",
       "647                                  0.100257  \n",
       "\n",
       "[648 rows x 5 columns]"
      ]
     },
     "execution_count": 251,
     "metadata": {},
     "output_type": "execute_result"
    }
   ],
   "source": [
    "health_data_df"
   ]
  },
  {
   "cell_type": "code",
   "execution_count": 252,
   "metadata": {},
   "outputs": [
    {
     "data": {
      "text/plain": [
       "(520,)"
      ]
     },
     "execution_count": 252,
     "metadata": {},
     "output_type": "execute_result"
    }
   ],
   "source": [
    "train_df = df[df['year'] < 2021]\n",
    "test_df = df[df['year'] >= 2021]\n",
    "\n",
    "train_data = train_df.to_numpy()\n",
    "train_labels = train_data[:, 2]\n",
    "test_data = test_df.to_numpy()\n",
    "test_labels = test_data[:, 2]\n",
    "\n",
    "train_df = train_df.drop(columns = ['below_poverty_line_percent'])\n",
    "test_df = test_df.drop(columns = ['below_poverty_line_percent'])\n",
    "train_df = train_df.drop(columns=['year'])\n",
    "test_df = test_df.drop(columns=['year'])\n",
    "\n",
    "train_data = train_df.to_numpy()\n",
    "test_data = test_df.to_numpy()\n",
    "train_data[:, 0]\n",
    "train_data.shape\n",
    "train_labels.shape"
   ]
  },
  {
   "cell_type": "code",
   "execution_count": 253,
   "metadata": {},
   "outputs": [
    {
     "data": {
      "text/plain": [
       "(520, 3)"
      ]
     },
     "execution_count": 253,
     "metadata": {},
     "output_type": "execute_result"
    }
   ],
   "source": [
    "le = LabelEncoder()\n",
    "le.fit(train_data[:, 0])\n",
    "train_data[:, 0] = le.transform(train_data[:, 0])\n",
    "train_data.shape"
   ]
  },
  {
   "cell_type": "code",
   "execution_count": 254,
   "metadata": {},
   "outputs": [],
   "source": [
    "# define model evaluation method\n",
    "cv = RepeatedKFold(n_splits=10, n_repeats=3, random_state=1)\n",
    "# evaluate model\n",
    "scores = cross_val_score(model, train_data, train_labels, scoring='neg_mean_absolute_error', cv=cv, n_jobs=-1)"
   ]
  },
  {
   "cell_type": "code",
   "execution_count": 255,
   "metadata": {},
   "outputs": [
    {
     "name": "stdout",
     "output_type": "stream",
     "text": [
      "[0.58955855 0.68639687 0.68495773 0.69893391 0.76455996 0.57461576\n",
      " 0.62550795 0.71124764 0.68051304 0.61828902 0.67416664 0.6703666\n",
      " 0.56713297 0.6433572  0.85623474 0.51565962 0.59044495 0.62324455\n",
      " 0.64283147 0.58606527 0.64260835 0.72937593 0.61462023 0.56290618\n",
      " 0.56894083 0.53138096 0.5444811  0.67660394 0.67699589 0.56498316]\n",
      "Mean MAE: 0.637 (0.073)\n"
     ]
    }
   ],
   "source": [
    "scores = absolute(scores)\n",
    "print(scores)\n",
    "print('Mean MAE: %.3f (%.3f)' % (scores.mean(), scores.std()) )"
   ]
  }
 ],
 "metadata": {
  "kernelspec": {
   "display_name": ".venv",
   "language": "python",
   "name": "python3"
  },
  "language_info": {
   "codemirror_mode": {
    "name": "ipython",
    "version": 3
   },
   "file_extension": ".py",
   "mimetype": "text/x-python",
   "name": "python",
   "nbconvert_exporter": "python",
   "pygments_lexer": "ipython3",
   "version": "3.10.12"
  }
 },
 "nbformat": 4,
 "nbformat_minor": 2
}
