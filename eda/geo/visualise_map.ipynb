{
 "cells": [
  {
   "cell_type": "markdown",
   "metadata": {},
   "source": [
    "## Setup\n",
    "Import modules"
   ]
  },
  {
   "cell_type": "code",
   "execution_count": null,
   "metadata": {},
   "outputs": [],
   "source": [
    "import pandas as pd\n",
    "import matplotlib.pyplot as plt\n",
    "from matplotlib.ticker import FuncFormatter\n",
    "import matplotlib.colors as mcolors\n",
    "import seaborn as sns\n",
    "import geopandas as gpd\n",
    "from shapely.geometry import Polygon\n",
    "import os\n",
    "import wget\n",
    "import openpyxl\n",
    "import math"
   ]
  },
  {
   "cell_type": "markdown",
   "metadata": {},
   "source": [
    "Optionally `wget` the shapefile for the US states"
   ]
  },
  {
   "cell_type": "code",
   "execution_count": null,
   "metadata": {},
   "outputs": [],
   "source": [
    "# wget.download(\"https://www2.census.gov/geo/tiger/GENZ2022/shp/cb_2022_us_state_500k.zip\")"
   ]
  },
  {
   "cell_type": "markdown",
   "metadata": {},
   "source": [
    "## State to state abbreviation\n",
    "Read in the state abbreviations csv and create a dictionary for quick conversion"
   ]
  },
  {
   "cell_type": "code",
   "execution_count": null,
   "metadata": {},
   "outputs": [],
   "source": [
    "df_abbrev = pd.read_csv(\"state_abbreviations.csv\")\n",
    "abbreviation = pd.Series(df_abbrev['Abbreviation'].values, index=df_abbrev['State'].str.lower()).to_dict()"
   ]
  },
  {
   "cell_type": "markdown",
   "metadata": {},
   "source": [
    "## Data Preparation\n",
    "Read in state data and filter it so theres only one value per state"
   ]
  },
  {
   "cell_type": "code",
   "execution_count": null,
   "metadata": {},
   "outputs": [],
   "source": [
    "VAL_COLUMN = 'below_poverty_line_percent'\n",
    "\n",
    "df = pd.read_csv(\"../../udataset/state_data.csv\")\n",
    "\n",
    "df = df[df['year'] == 2022]\n",
    "df = df[['state', VAL_COLUMN]]\n",
    "df = df[df['state'] != 'puerto rico']\n",
    "df.reset_index(drop=True, inplace=True)"
   ]
  },
  {
   "cell_type": "markdown",
   "metadata": {},
   "source": [
    "Adjust the values for easier plotting"
   ]
  },
  {
   "cell_type": "code",
   "execution_count": null,
   "metadata": {},
   "outputs": [],
   "source": [
    "df[VAL_COLUMN] = df[VAL_COLUMN] * 100\n",
    "df[VAL_COLUMN] = round(df[VAL_COLUMN], 1)"
   ]
  },
  {
   "cell_type": "markdown",
   "metadata": {},
   "source": [
    "Convert the state names into their abbreviations"
   ]
  },
  {
   "cell_type": "code",
   "execution_count": null,
   "metadata": {},
   "outputs": [],
   "source": [
    "df['state'] = df['state'].apply(lambda x: abbreviation[x])"
   ]
  },
  {
   "cell_type": "markdown",
   "metadata": {},
   "source": [
    "## Load the spacial data\n",
    "Read in the geospatial data using `geopandas`"
   ]
  },
  {
   "cell_type": "code",
   "execution_count": null,
   "metadata": {},
   "outputs": [],
   "source": [
    "gdf = gpd.read_file('cb_2022_us_state_500k')"
   ]
  },
  {
   "cell_type": "markdown",
   "metadata": {},
   "source": [
    "Merge the geospatial with the state data"
   ]
  },
  {
   "cell_type": "code",
   "execution_count": null,
   "metadata": {},
   "outputs": [],
   "source": [
    "gdf = gdf.merge(df,left_on='STUSPS',right_on='state')"
   ]
  },
  {
   "cell_type": "code",
   "execution_count": null,
   "metadata": {},
   "outputs": [],
   "source": []
  },
  {
   "cell_type": "code",
   "execution_count": null,
   "metadata": {},
   "outputs": [],
   "source": [
    "# Create a \"copy\" of gdf for re-projecting\n",
    "visframe = gdf.to_crs({'init':'epsg:2163'})\n",
    "\n",
    "# create figure and axes for with Matplotlib for main map\n",
    "fig, ax = plt.subplots(1, figsize=(18, 14))\n",
    "# remove the axis box from the main map\n",
    "ax.axis('off')\n",
    "\n",
    "# create map of all mainland states\n",
    "visframe[~visframe.state.isin(['HI','AK'])].plot(color='lightblue', linewidth=0.8, ax=ax, edgecolor='0.8')\n",
    "\n",
    "# Add Alaska Axis (x, y, width, height)\n",
    "ak_ax = fig.add_axes([0.1, 0.17, 0.17, 0.16])\n",
    "\n",
    "# Add Hawaii Axis(x, y, width, height)\n",
    "hi_ax = fig.add_axes([.28, 0.20, 0.1, 0.1])"
   ]
  },
  {
   "cell_type": "code",
   "execution_count": null,
   "metadata": {},
   "outputs": [],
   "source": [
    "def makeColorColumn(gdf,variable,vmin,vmax):\n",
    "    norm = mcolors.Normalize(vmin=vmin, vmax=vmax, clip=True)\n",
    "    mapper = plt.cm.ScalarMappable(norm=norm, cmap=plt.cm.YlOrBr)\n",
    "    gdf['value_determined_color'] = gdf[variable].apply(lambda x: mcolors.to_hex(mapper.to_rgba(x)))\n",
    "    return gdf"
   ]
  },
  {
   "cell_type": "code",
   "execution_count": null,
   "metadata": {},
   "outputs": [],
   "source": [
    "# make a column for value_determined_color in gdf\n",
    "# set the range for the choropleth values with the upper bound the rounded up maximum value\n",
    "vmin, vmax = gdf[VAL_COLUMN].min(), gdf[VAL_COLUMN].max() #math.ceil(gdf.pct_food_insecure.max())\n",
    "# Choose the continuous colorscale \"YlOrBr\" from https://matplotlib.org/stable/tutorials/colors/colormaps.html\n",
    "colormap = \"YlOrBr\"\n",
    "gdf = makeColorColumn(gdf,VAL_COLUMN,vmin,vmax)\n",
    "alaska_gdf = makeColorColumn(alaska_gdf,VAL_COLUMN,vmin,vmax)\n",
    "hawaii_gdf = makeColorColumn(hawaii_gdf,VAL_COLUMN,vmin,vmax)\n",
    "\n",
    "# create \"visframe\" as a re-projected gdf using EPSG 2163\n",
    "visframe = gdf.to_crs({'init':'epsg:2163'})\n",
    "\n",
    "\n",
    "\n",
    "# create figure and axes for Matplotlib\n",
    "fig, ax = plt.subplots(1, figsize=(18, 14))\n",
    "# remove the axis box around the vis\n",
    "ax.axis('off')\n",
    "\n",
    "# add a title and annotation\n",
    "ax.set_title('Title')\n",
    "\n",
    "# Create colorbar legend\n",
    "fig = ax.get_figure()\n",
    "# add colorbar axes to the figure\n",
    "# This will take some iterating to get it where you want it [l,b,w,h] right\n",
    "# l:left, b:bottom, w:width, h:height; in normalized unit (0-1)\n",
    "cbax = fig.add_axes([0.89, 0.21, 0.03, 0.31])   \n",
    "\n",
    "cbax.set_title('Color Bar')\n",
    "\n",
    "# add color scale\n",
    "sm = plt.cm.ScalarMappable(cmap=colormap, \\\n",
    "                 norm=plt.Normalize(vmin=vmin, vmax=vmax))\n",
    "# reformat tick labels on legend\n",
    "sm._A = []\n",
    "comma_fmt = FuncFormatter(lambda x, p: format(x/100, '.0%'))\n",
    "fig.colorbar(sm, cax=cbax, format=comma_fmt)\n",
    "tick_font_size = 16\n",
    "cbax.tick_params(labelsize=tick_font_size)\n",
    "\n",
    "\n",
    "# create map\n",
    "# Note: we're going state by state here because of unusual coloring behavior when trying to plot the entire dataframe using the \"value_determined_color\" column\n",
    "for row in visframe.itertuples():\n",
    "    if row.state not in ['AK','HI']:\n",
    "        vf = visframe[visframe.state==row.state]\n",
    "        c = gdf[gdf.state==row.state][0:1].value_determined_color.item()\n",
    "        vf.plot(color=c, linewidth=0.8, ax=ax, edgecolor='0.8')\n",
    "\n",
    "\n",
    "\n",
    "# add Alaska\n",
    "akax = fig.add_axes([0.1, 0.17, 0.2, 0.19])   \n",
    "akax.axis('off')\n",
    "# polygon to clip western islands\n",
    "polygon = Polygon([(-170,50),(-170,72),(-140, 72),(-140,50)])\n",
    "alaska_gdf.clip(polygon).plot(color=alaska_gdf['value_determined_color'], linewidth=0.8,ax=akax, edgecolor='0.8')\n",
    "\n",
    "\n",
    "# add Hawaii\n",
    "hiax = fig.add_axes([.28, 0.20, 0.1, 0.1])   \n",
    "hiax.axis('off')\n",
    "# polygon to clip western islands\n",
    "hipolygon = Polygon([(-160,0),(-160,90),(-120,90),(-120,0)])\n",
    "hawaii_gdf.clip(hipolygon).plot(column=VAL_COLUMN, color=hawaii_gdf['value_determined_color'], linewidth=0.8,ax=hiax, edgecolor='0.8')\n"
   ]
  }
 ],
 "metadata": {
  "kernelspec": {
   "display_name": ".venv",
   "language": "python",
   "name": "python3"
  },
  "language_info": {
   "codemirror_mode": {
    "name": "ipython",
    "version": 3
   },
   "file_extension": ".py",
   "mimetype": "text/x-python",
   "name": "python",
   "nbconvert_exporter": "python",
   "pygments_lexer": "ipython3",
   "version": "3.10.12"
  }
 },
 "nbformat": 4,
 "nbformat_minor": 2
}
