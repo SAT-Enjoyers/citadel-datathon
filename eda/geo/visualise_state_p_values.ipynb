{
 "cells": [
  {
   "cell_type": "code",
   "execution_count": 18,
   "metadata": {},
   "outputs": [],
   "source": [
    "import pandas as pd\n",
    "import numpy as np\n",
    "from visualise import get_state_figure, get_abbreviations"
   ]
  },
  {
   "cell_type": "code",
   "execution_count": 19,
   "metadata": {},
   "outputs": [],
   "source": [
    "DATASET = \"../../udataset/p_values_earnings_state.csv\""
   ]
  },
  {
   "cell_type": "code",
   "execution_count": 20,
   "metadata": {},
   "outputs": [
    {
     "data": {
      "text/html": [
       "<div>\n",
       "<style scoped>\n",
       "    .dataframe tbody tr th:only-of-type {\n",
       "        vertical-align: middle;\n",
       "    }\n",
       "\n",
       "    .dataframe tbody tr th {\n",
       "        vertical-align: top;\n",
       "    }\n",
       "\n",
       "    .dataframe thead th {\n",
       "        text-align: right;\n",
       "    }\n",
       "</style>\n",
       "<table border=\"1\" class=\"dataframe\">\n",
       "  <thead>\n",
       "    <tr style=\"text-align: right;\">\n",
       "      <th></th>\n",
       "      <th>Unnamed: 0</th>\n",
       "      <th>Beef</th>\n",
       "      <th>Veal</th>\n",
       "      <th>Pork</th>\n",
       "      <th>Lamb and Mutton</th>\n",
       "      <th>Broiler</th>\n",
       "      <th>Other Chicken</th>\n",
       "      <th>Turkey</th>\n",
       "      <th>Red Meat</th>\n",
       "      <th>Poultry</th>\n",
       "      <th>...</th>\n",
       "      <th>virginia-hourly-earnings</th>\n",
       "      <th>virginia-unemployment-rate</th>\n",
       "      <th>washington-hourly-earnings</th>\n",
       "      <th>washington-unemployment-rate</th>\n",
       "      <th>west virginia-hourly-earnings</th>\n",
       "      <th>west virginia-unemployment-rate</th>\n",
       "      <th>wisconsin-hourly-earnings</th>\n",
       "      <th>wisconsin-unemployment-rate</th>\n",
       "      <th>wyoming-hourly-earnings</th>\n",
       "      <th>wyoming-unemployment-rate</th>\n",
       "    </tr>\n",
       "  </thead>\n",
       "  <tbody>\n",
       "    <tr>\n",
       "      <th>0</th>\n",
       "      <td>Beef</td>\n",
       "      <td>NaN</td>\n",
       "      <td>1.159806e-33</td>\n",
       "      <td>1.506956e-51</td>\n",
       "      <td>1.087362e-24</td>\n",
       "      <td>7.110162e-49</td>\n",
       "      <td>7.110661e-32</td>\n",
       "      <td>1.772992e-13</td>\n",
       "      <td>1.088780e-99</td>\n",
       "      <td>1.133626e-50</td>\n",
       "      <td>...</td>\n",
       "      <td>5.051152e-13</td>\n",
       "      <td>1.486759e-01</td>\n",
       "      <td>3.594695e-14</td>\n",
       "      <td>2.316247e-02</td>\n",
       "      <td>3.964666e-07</td>\n",
       "      <td>7.340134e-02</td>\n",
       "      <td>4.685212e-16</td>\n",
       "      <td>2.542123e-02</td>\n",
       "      <td>6.998690e-08</td>\n",
       "      <td>0.148109</td>\n",
       "    </tr>\n",
       "    <tr>\n",
       "      <th>1</th>\n",
       "      <td>Veal</td>\n",
       "      <td>1.159806e-33</td>\n",
       "      <td>NaN</td>\n",
       "      <td>1.138377e-36</td>\n",
       "      <td>1.230415e-25</td>\n",
       "      <td>6.796939e-33</td>\n",
       "      <td>8.730405e-18</td>\n",
       "      <td>5.032732e-14</td>\n",
       "      <td>1.395937e-39</td>\n",
       "      <td>6.649827e-32</td>\n",
       "      <td>...</td>\n",
       "      <td>2.337292e-06</td>\n",
       "      <td>2.287198e-01</td>\n",
       "      <td>7.480416e-06</td>\n",
       "      <td>2.541570e-01</td>\n",
       "      <td>1.559134e-03</td>\n",
       "      <td>9.426127e-02</td>\n",
       "      <td>7.869866e-06</td>\n",
       "      <td>5.147167e-02</td>\n",
       "      <td>1.668252e-03</td>\n",
       "      <td>0.243867</td>\n",
       "    </tr>\n",
       "    <tr>\n",
       "      <th>2</th>\n",
       "      <td>Pork</td>\n",
       "      <td>1.506956e-51</td>\n",
       "      <td>1.138377e-36</td>\n",
       "      <td>NaN</td>\n",
       "      <td>1.607195e-27</td>\n",
       "      <td>6.403832e-38</td>\n",
       "      <td>2.188088e-22</td>\n",
       "      <td>3.636132e-13</td>\n",
       "      <td>9.129412e-99</td>\n",
       "      <td>4.078343e-38</td>\n",
       "      <td>...</td>\n",
       "      <td>1.052138e-08</td>\n",
       "      <td>1.396528e-01</td>\n",
       "      <td>7.437395e-08</td>\n",
       "      <td>7.441974e-02</td>\n",
       "      <td>3.376494e-04</td>\n",
       "      <td>9.446005e-02</td>\n",
       "      <td>1.366811e-07</td>\n",
       "      <td>2.887739e-02</td>\n",
       "      <td>6.728332e-03</td>\n",
       "      <td>0.413669</td>\n",
       "    </tr>\n",
       "    <tr>\n",
       "      <th>3</th>\n",
       "      <td>Lamb and Mutton</td>\n",
       "      <td>1.087362e-24</td>\n",
       "      <td>1.230415e-25</td>\n",
       "      <td>1.607195e-27</td>\n",
       "      <td>NaN</td>\n",
       "      <td>3.719300e-22</td>\n",
       "      <td>9.789420e-15</td>\n",
       "      <td>8.634689e-08</td>\n",
       "      <td>6.617949e-29</td>\n",
       "      <td>1.753171e-22</td>\n",
       "      <td>...</td>\n",
       "      <td>4.925851e-08</td>\n",
       "      <td>1.873066e-01</td>\n",
       "      <td>1.770501e-07</td>\n",
       "      <td>3.039983e-01</td>\n",
       "      <td>1.083196e-03</td>\n",
       "      <td>1.732453e-01</td>\n",
       "      <td>3.671174e-07</td>\n",
       "      <td>2.012494e-01</td>\n",
       "      <td>2.359133e-02</td>\n",
       "      <td>0.414454</td>\n",
       "    </tr>\n",
       "    <tr>\n",
       "      <th>4</th>\n",
       "      <td>Broiler</td>\n",
       "      <td>7.110162e-49</td>\n",
       "      <td>6.796939e-33</td>\n",
       "      <td>6.403832e-38</td>\n",
       "      <td>3.719300e-22</td>\n",
       "      <td>NaN</td>\n",
       "      <td>7.885259e-41</td>\n",
       "      <td>4.175424e-27</td>\n",
       "      <td>5.335741e-49</td>\n",
       "      <td>1.184758e-143</td>\n",
       "      <td>...</td>\n",
       "      <td>2.010459e-07</td>\n",
       "      <td>3.543547e-01</td>\n",
       "      <td>3.510396e-07</td>\n",
       "      <td>8.439040e-01</td>\n",
       "      <td>1.300445e-02</td>\n",
       "      <td>7.594512e-01</td>\n",
       "      <td>4.949902e-06</td>\n",
       "      <td>7.963606e-01</td>\n",
       "      <td>1.968101e-03</td>\n",
       "      <td>0.374674</td>\n",
       "    </tr>\n",
       "    <tr>\n",
       "      <th>...</th>\n",
       "      <td>...</td>\n",
       "      <td>...</td>\n",
       "      <td>...</td>\n",
       "      <td>...</td>\n",
       "      <td>...</td>\n",
       "      <td>...</td>\n",
       "      <td>...</td>\n",
       "      <td>...</td>\n",
       "      <td>...</td>\n",
       "      <td>...</td>\n",
       "      <td>...</td>\n",
       "      <td>...</td>\n",
       "      <td>...</td>\n",
       "      <td>...</td>\n",
       "      <td>...</td>\n",
       "      <td>...</td>\n",
       "      <td>...</td>\n",
       "      <td>...</td>\n",
       "      <td>...</td>\n",
       "      <td>...</td>\n",
       "      <td>...</td>\n",
       "    </tr>\n",
       "    <tr>\n",
       "      <th>106</th>\n",
       "      <td>west virginia-unemployment-rate</td>\n",
       "      <td>7.340134e-02</td>\n",
       "      <td>9.426127e-02</td>\n",
       "      <td>9.446005e-02</td>\n",
       "      <td>1.732453e-01</td>\n",
       "      <td>7.594512e-01</td>\n",
       "      <td>3.102618e-01</td>\n",
       "      <td>3.588237e-01</td>\n",
       "      <td>7.749212e-02</td>\n",
       "      <td>8.639124e-01</td>\n",
       "      <td>...</td>\n",
       "      <td>1.334640e-01</td>\n",
       "      <td>1.151474e-46</td>\n",
       "      <td>4.434719e-03</td>\n",
       "      <td>3.326742e-62</td>\n",
       "      <td>6.213889e-06</td>\n",
       "      <td>NaN</td>\n",
       "      <td>2.408359e-01</td>\n",
       "      <td>5.714637e-73</td>\n",
       "      <td>2.505084e-02</td>\n",
       "      <td>0.000154</td>\n",
       "    </tr>\n",
       "    <tr>\n",
       "      <th>107</th>\n",
       "      <td>wisconsin-hourly-earnings</td>\n",
       "      <td>4.685212e-16</td>\n",
       "      <td>7.869866e-06</td>\n",
       "      <td>1.366811e-07</td>\n",
       "      <td>3.671174e-07</td>\n",
       "      <td>4.949902e-06</td>\n",
       "      <td>7.769335e-09</td>\n",
       "      <td>1.708682e-01</td>\n",
       "      <td>4.997263e-12</td>\n",
       "      <td>7.315178e-07</td>\n",
       "      <td>...</td>\n",
       "      <td>1.013307e-17</td>\n",
       "      <td>6.322884e-02</td>\n",
       "      <td>7.384307e-22</td>\n",
       "      <td>8.374108e-03</td>\n",
       "      <td>3.067003e-14</td>\n",
       "      <td>2.408359e-01</td>\n",
       "      <td>NaN</td>\n",
       "      <td>1.032646e-01</td>\n",
       "      <td>1.171324e-19</td>\n",
       "      <td>0.165816</td>\n",
       "    </tr>\n",
       "    <tr>\n",
       "      <th>108</th>\n",
       "      <td>wisconsin-unemployment-rate</td>\n",
       "      <td>2.542123e-02</td>\n",
       "      <td>5.147167e-02</td>\n",
       "      <td>2.887739e-02</td>\n",
       "      <td>2.012494e-01</td>\n",
       "      <td>7.963606e-01</td>\n",
       "      <td>4.143810e-01</td>\n",
       "      <td>8.717533e-01</td>\n",
       "      <td>2.355195e-02</td>\n",
       "      <td>7.904553e-01</td>\n",
       "      <td>...</td>\n",
       "      <td>1.615255e-01</td>\n",
       "      <td>9.396289e-72</td>\n",
       "      <td>3.875896e-03</td>\n",
       "      <td>3.918245e-76</td>\n",
       "      <td>1.573764e-06</td>\n",
       "      <td>5.714637e-73</td>\n",
       "      <td>1.032646e-01</td>\n",
       "      <td>NaN</td>\n",
       "      <td>2.479214e-01</td>\n",
       "      <td>0.181491</td>\n",
       "    </tr>\n",
       "    <tr>\n",
       "      <th>109</th>\n",
       "      <td>wyoming-hourly-earnings</td>\n",
       "      <td>6.998690e-08</td>\n",
       "      <td>1.668252e-03</td>\n",
       "      <td>6.728332e-03</td>\n",
       "      <td>2.359133e-02</td>\n",
       "      <td>1.968101e-03</td>\n",
       "      <td>3.590940e-05</td>\n",
       "      <td>5.855500e-02</td>\n",
       "      <td>2.754169e-05</td>\n",
       "      <td>1.492916e-03</td>\n",
       "      <td>...</td>\n",
       "      <td>4.794659e-08</td>\n",
       "      <td>8.714700e-01</td>\n",
       "      <td>3.727378e-11</td>\n",
       "      <td>8.945554e-01</td>\n",
       "      <td>1.121885e-04</td>\n",
       "      <td>2.505084e-02</td>\n",
       "      <td>1.171324e-19</td>\n",
       "      <td>2.479214e-01</td>\n",
       "      <td>NaN</td>\n",
       "      <td>0.021329</td>\n",
       "    </tr>\n",
       "    <tr>\n",
       "      <th>110</th>\n",
       "      <td>wyoming-unemployment-rate</td>\n",
       "      <td>1.481093e-01</td>\n",
       "      <td>2.438670e-01</td>\n",
       "      <td>4.136691e-01</td>\n",
       "      <td>4.144543e-01</td>\n",
       "      <td>3.746735e-01</td>\n",
       "      <td>9.623203e-01</td>\n",
       "      <td>1.020862e-02</td>\n",
       "      <td>2.479252e-01</td>\n",
       "      <td>6.146559e-01</td>\n",
       "      <td>...</td>\n",
       "      <td>8.643699e-01</td>\n",
       "      <td>7.968946e-01</td>\n",
       "      <td>9.755422e-01</td>\n",
       "      <td>1.037709e-01</td>\n",
       "      <td>3.074775e-01</td>\n",
       "      <td>1.540757e-04</td>\n",
       "      <td>1.658159e-01</td>\n",
       "      <td>1.814907e-01</td>\n",
       "      <td>2.132861e-02</td>\n",
       "      <td>NaN</td>\n",
       "    </tr>\n",
       "  </tbody>\n",
       "</table>\n",
       "<p>111 rows × 112 columns</p>\n",
       "</div>"
      ],
      "text/plain": [
       "                          Unnamed: 0          Beef          Veal  \\\n",
       "0                               Beef           NaN  1.159806e-33   \n",
       "1                               Veal  1.159806e-33           NaN   \n",
       "2                               Pork  1.506956e-51  1.138377e-36   \n",
       "3                    Lamb and Mutton  1.087362e-24  1.230415e-25   \n",
       "4                            Broiler  7.110162e-49  6.796939e-33   \n",
       "..                               ...           ...           ...   \n",
       "106  west virginia-unemployment-rate  7.340134e-02  9.426127e-02   \n",
       "107        wisconsin-hourly-earnings  4.685212e-16  7.869866e-06   \n",
       "108      wisconsin-unemployment-rate  2.542123e-02  5.147167e-02   \n",
       "109          wyoming-hourly-earnings  6.998690e-08  1.668252e-03   \n",
       "110        wyoming-unemployment-rate  1.481093e-01  2.438670e-01   \n",
       "\n",
       "             Pork  Lamb and Mutton       Broiler  Other Chicken        Turkey  \\\n",
       "0    1.506956e-51     1.087362e-24  7.110162e-49   7.110661e-32  1.772992e-13   \n",
       "1    1.138377e-36     1.230415e-25  6.796939e-33   8.730405e-18  5.032732e-14   \n",
       "2             NaN     1.607195e-27  6.403832e-38   2.188088e-22  3.636132e-13   \n",
       "3    1.607195e-27              NaN  3.719300e-22   9.789420e-15  8.634689e-08   \n",
       "4    6.403832e-38     3.719300e-22           NaN   7.885259e-41  4.175424e-27   \n",
       "..            ...              ...           ...            ...           ...   \n",
       "106  9.446005e-02     1.732453e-01  7.594512e-01   3.102618e-01  3.588237e-01   \n",
       "107  1.366811e-07     3.671174e-07  4.949902e-06   7.769335e-09  1.708682e-01   \n",
       "108  2.887739e-02     2.012494e-01  7.963606e-01   4.143810e-01  8.717533e-01   \n",
       "109  6.728332e-03     2.359133e-02  1.968101e-03   3.590940e-05  5.855500e-02   \n",
       "110  4.136691e-01     4.144543e-01  3.746735e-01   9.623203e-01  1.020862e-02   \n",
       "\n",
       "         Red Meat        Poultry  ...  virginia-hourly-earnings  \\\n",
       "0    1.088780e-99   1.133626e-50  ...              5.051152e-13   \n",
       "1    1.395937e-39   6.649827e-32  ...              2.337292e-06   \n",
       "2    9.129412e-99   4.078343e-38  ...              1.052138e-08   \n",
       "3    6.617949e-29   1.753171e-22  ...              4.925851e-08   \n",
       "4    5.335741e-49  1.184758e-143  ...              2.010459e-07   \n",
       "..            ...            ...  ...                       ...   \n",
       "106  7.749212e-02   8.639124e-01  ...              1.334640e-01   \n",
       "107  4.997263e-12   7.315178e-07  ...              1.013307e-17   \n",
       "108  2.355195e-02   7.904553e-01  ...              1.615255e-01   \n",
       "109  2.754169e-05   1.492916e-03  ...              4.794659e-08   \n",
       "110  2.479252e-01   6.146559e-01  ...              8.643699e-01   \n",
       "\n",
       "     virginia-unemployment-rate  washington-hourly-earnings  \\\n",
       "0                  1.486759e-01                3.594695e-14   \n",
       "1                  2.287198e-01                7.480416e-06   \n",
       "2                  1.396528e-01                7.437395e-08   \n",
       "3                  1.873066e-01                1.770501e-07   \n",
       "4                  3.543547e-01                3.510396e-07   \n",
       "..                          ...                         ...   \n",
       "106                1.151474e-46                4.434719e-03   \n",
       "107                6.322884e-02                7.384307e-22   \n",
       "108                9.396289e-72                3.875896e-03   \n",
       "109                8.714700e-01                3.727378e-11   \n",
       "110                7.968946e-01                9.755422e-01   \n",
       "\n",
       "     washington-unemployment-rate  west virginia-hourly-earnings  \\\n",
       "0                    2.316247e-02                   3.964666e-07   \n",
       "1                    2.541570e-01                   1.559134e-03   \n",
       "2                    7.441974e-02                   3.376494e-04   \n",
       "3                    3.039983e-01                   1.083196e-03   \n",
       "4                    8.439040e-01                   1.300445e-02   \n",
       "..                            ...                            ...   \n",
       "106                  3.326742e-62                   6.213889e-06   \n",
       "107                  8.374108e-03                   3.067003e-14   \n",
       "108                  3.918245e-76                   1.573764e-06   \n",
       "109                  8.945554e-01                   1.121885e-04   \n",
       "110                  1.037709e-01                   3.074775e-01   \n",
       "\n",
       "     west virginia-unemployment-rate  wisconsin-hourly-earnings  \\\n",
       "0                       7.340134e-02               4.685212e-16   \n",
       "1                       9.426127e-02               7.869866e-06   \n",
       "2                       9.446005e-02               1.366811e-07   \n",
       "3                       1.732453e-01               3.671174e-07   \n",
       "4                       7.594512e-01               4.949902e-06   \n",
       "..                               ...                        ...   \n",
       "106                              NaN               2.408359e-01   \n",
       "107                     2.408359e-01                        NaN   \n",
       "108                     5.714637e-73               1.032646e-01   \n",
       "109                     2.505084e-02               1.171324e-19   \n",
       "110                     1.540757e-04               1.658159e-01   \n",
       "\n",
       "     wisconsin-unemployment-rate  wyoming-hourly-earnings  \\\n",
       "0                   2.542123e-02             6.998690e-08   \n",
       "1                   5.147167e-02             1.668252e-03   \n",
       "2                   2.887739e-02             6.728332e-03   \n",
       "3                   2.012494e-01             2.359133e-02   \n",
       "4                   7.963606e-01             1.968101e-03   \n",
       "..                           ...                      ...   \n",
       "106                 5.714637e-73             2.505084e-02   \n",
       "107                 1.032646e-01             1.171324e-19   \n",
       "108                          NaN             2.479214e-01   \n",
       "109                 2.479214e-01                      NaN   \n",
       "110                 1.814907e-01             2.132861e-02   \n",
       "\n",
       "     wyoming-unemployment-rate  \n",
       "0                     0.148109  \n",
       "1                     0.243867  \n",
       "2                     0.413669  \n",
       "3                     0.414454  \n",
       "4                     0.374674  \n",
       "..                         ...  \n",
       "106                   0.000154  \n",
       "107                   0.165816  \n",
       "108                   0.181491  \n",
       "109                   0.021329  \n",
       "110                        NaN  \n",
       "\n",
       "[111 rows x 112 columns]"
      ]
     },
     "execution_count": 20,
     "metadata": {},
     "output_type": "execute_result"
    }
   ],
   "source": [
    "df = pd.read_csv(DATASET)\n",
    "df"
   ]
  },
  {
   "cell_type": "code",
   "execution_count": 21,
   "metadata": {},
   "outputs": [],
   "source": [
    "EARNINGS_COLS = sorted([col for col in df.columns.to_list() if 'hourly-earnings' in col])"
   ]
  },
  {
   "cell_type": "code",
   "execution_count": 22,
   "metadata": {},
   "outputs": [
    {
     "data": {
      "text/html": [
       "<div>\n",
       "<style scoped>\n",
       "    .dataframe tbody tr th:only-of-type {\n",
       "        vertical-align: middle;\n",
       "    }\n",
       "\n",
       "    .dataframe tbody tr th {\n",
       "        vertical-align: top;\n",
       "    }\n",
       "\n",
       "    .dataframe thead th {\n",
       "        text-align: right;\n",
       "    }\n",
       "</style>\n",
       "<table border=\"1\" class=\"dataframe\">\n",
       "  <thead>\n",
       "    <tr style=\"text-align: right;\">\n",
       "      <th></th>\n",
       "      <th>alabama-hourly-earnings</th>\n",
       "      <th>alaska-hourly-earnings</th>\n",
       "      <th>arizona-hourly-earnings</th>\n",
       "      <th>arkansas-hourly-earnings</th>\n",
       "      <th>california-hourly-earnings</th>\n",
       "      <th>colorado-hourly-earnings</th>\n",
       "      <th>connecticut-hourly-earnings</th>\n",
       "      <th>delaware-hourly-earnings</th>\n",
       "      <th>district of columbia-hourly-earnings</th>\n",
       "      <th>florida-hourly-earnings</th>\n",
       "      <th>...</th>\n",
       "      <th>south dakota-hourly-earnings</th>\n",
       "      <th>tennessee-hourly-earnings</th>\n",
       "      <th>texas-hourly-earnings</th>\n",
       "      <th>utah-hourly-earnings</th>\n",
       "      <th>vermont-hourly-earnings</th>\n",
       "      <th>virginia-hourly-earnings</th>\n",
       "      <th>washington-hourly-earnings</th>\n",
       "      <th>west virginia-hourly-earnings</th>\n",
       "      <th>wisconsin-hourly-earnings</th>\n",
       "      <th>wyoming-hourly-earnings</th>\n",
       "    </tr>\n",
       "  </thead>\n",
       "  <tbody>\n",
       "    <tr>\n",
       "      <th>0</th>\n",
       "      <td>3.566351e-15</td>\n",
       "      <td>0.010355</td>\n",
       "      <td>3.087943e-08</td>\n",
       "      <td>1.355090e-10</td>\n",
       "      <td>8.484637e-16</td>\n",
       "      <td>1.322233e-13</td>\n",
       "      <td>1.530032e-12</td>\n",
       "      <td>2.681459e-08</td>\n",
       "      <td>1.082943e-08</td>\n",
       "      <td>1.047363e-09</td>\n",
       "      <td>...</td>\n",
       "      <td>2.833364e-13</td>\n",
       "      <td>1.812679e-20</td>\n",
       "      <td>8.899015e-13</td>\n",
       "      <td>0.000013</td>\n",
       "      <td>0.000167</td>\n",
       "      <td>5.051152e-13</td>\n",
       "      <td>3.594695e-14</td>\n",
       "      <td>3.964666e-07</td>\n",
       "      <td>4.685212e-16</td>\n",
       "      <td>6.998690e-08</td>\n",
       "    </tr>\n",
       "  </tbody>\n",
       "</table>\n",
       "<p>1 rows × 51 columns</p>\n",
       "</div>"
      ],
      "text/plain": [
       "   alabama-hourly-earnings  alaska-hourly-earnings  arizona-hourly-earnings  \\\n",
       "0             3.566351e-15                0.010355             3.087943e-08   \n",
       "\n",
       "   arkansas-hourly-earnings  california-hourly-earnings  \\\n",
       "0              1.355090e-10                8.484637e-16   \n",
       "\n",
       "   colorado-hourly-earnings  connecticut-hourly-earnings  \\\n",
       "0              1.322233e-13                 1.530032e-12   \n",
       "\n",
       "   delaware-hourly-earnings  district of columbia-hourly-earnings  \\\n",
       "0              2.681459e-08                          1.082943e-08   \n",
       "\n",
       "   florida-hourly-earnings  ...  south dakota-hourly-earnings  \\\n",
       "0             1.047363e-09  ...                  2.833364e-13   \n",
       "\n",
       "   tennessee-hourly-earnings  texas-hourly-earnings  utah-hourly-earnings  \\\n",
       "0               1.812679e-20           8.899015e-13              0.000013   \n",
       "\n",
       "   vermont-hourly-earnings  virginia-hourly-earnings  \\\n",
       "0                 0.000167              5.051152e-13   \n",
       "\n",
       "   washington-hourly-earnings  west virginia-hourly-earnings  \\\n",
       "0                3.594695e-14                   3.964666e-07   \n",
       "\n",
       "   wisconsin-hourly-earnings  wyoming-hourly-earnings  \n",
       "0               4.685212e-16             6.998690e-08  \n",
       "\n",
       "[1 rows x 51 columns]"
      ]
     },
     "execution_count": 22,
     "metadata": {},
     "output_type": "execute_result"
    }
   ],
   "source": [
    "data_row = df[df['Unnamed: 0'] == 'Beef']\n",
    "data_row = data_row[EARNINGS_COLS]\n",
    "data_row"
   ]
  },
  {
   "cell_type": "code",
   "execution_count": 23,
   "metadata": {},
   "outputs": [],
   "source": [
    "plot_data = []\n",
    "\n",
    "for col in EARNINGS_COLS:\n",
    "    plot_data.append([col.split(\"-\")[0], data_row[col][0]])"
   ]
  },
  {
   "cell_type": "code",
   "execution_count": 24,
   "metadata": {},
   "outputs": [
    {
     "data": {
      "application/vnd.plotly.v1+json": {
       "config": {
        "plotlyServerURL": "https://plot.ly"
       },
       "data": [
        {
         "autocolorscale": false,
         "colorbar": {
          "title": {
           "text": "log(p)"
          },
          "x": 1.02
         },
         "colorscale": [
          [
           0,
           "rgb(255,255,229)"
          ],
          [
           0.125,
           "rgb(255,247,188)"
          ],
          [
           0.25,
           "rgb(254,227,145)"
          ],
          [
           0.375,
           "rgb(254,196,79)"
          ],
          [
           0.5,
           "rgb(254,153,41)"
          ],
          [
           0.625,
           "rgb(236,112,20)"
          ],
          [
           0.75,
           "rgb(204,76,2)"
          ],
          [
           0.875,
           "rgb(153,52,4)"
          ],
          [
           1,
           "rgb(102,37,6)"
          ]
         ],
         "locationmode": "USA-states",
         "locations": [
          "AL",
          "AK",
          "AZ",
          "AR",
          "CA",
          "CO",
          "CT",
          "DE",
          "DC",
          "FL",
          "GA",
          "HI",
          "ID",
          "IL",
          "IN",
          "IA",
          "KS",
          "KY",
          "LA",
          "ME",
          "MD",
          "MA",
          "MI",
          "MN",
          "MS",
          "MO",
          "MT",
          "NE",
          "NV",
          "NH",
          "NJ",
          "NM",
          "NY",
          "NC",
          "ND",
          "OH",
          "OK",
          "OR",
          "PA",
          "RI",
          "SC",
          "SD",
          "TN",
          "TX",
          "UT",
          "VT",
          "VA",
          "WA",
          "WV",
          "WI",
          "WY"
         ],
         "marker": {
          "line": {
           "color": "white"
          }
         },
         "type": "choropleth",
         "z": [
          -14.44777591004848,
          -1.984842607788422,
          -7.510330697851369,
          -9.868032002117115,
          -15.071366735808322,
          -12.878692125761779,
          -11.815299543687042,
          -7.571628882852928,
          -7.965394356625781,
          -8.979902719700233,
          -10.072209388135422,
          -7.619965973514976,
          -9.291054156211235,
          -19.806016651968456,
          -14.823184915161715,
          -7.3742117114081704,
          -13.169935112669767,
          -8.414338711375658,
          -7.698647641515032,
          -5.445507774041583,
          -12.900425247655573,
          -16.289816164821453,
          -13.981381604678415,
          -10.667577013342747,
          -8.574134439188096,
          -11.068799711696945,
          -5.441748303660062,
          -5.908800309493258,
          -6.6550219858031125,
          -9.28924930321431,
          -10.985661615614767,
          -9.950520927805174,
          -15.981674471330876,
          -17.240172747013116,
          -8.712224883710668,
          -14.337829949466222,
          -12.71398296522278,
          -8.63213546263838,
          -16.29349448435651,
          -7.400586871071756,
          -7.2551424034025445,
          -12.54769770080273,
          -19.741679205575974,
          -12.050658044852954,
          -4.891740832877577,
          -3.7766348328755135,
          -12.296609541355723,
          -13.444337923282102,
          -6.401793341707959,
          -15.329270783768244,
          -7.154983237789292
         ]
        }
       ],
       "layout": {
        "geo": {
         "lakecolor": "rgb(255, 255, 255)",
         "projection": {
          "type": "albers usa"
         },
         "scope": "usa",
         "showlakes": true
        },
        "height": 450,
        "margin": {
         "b": 0,
         "l": 10,
         "r": 10,
         "t": 50
        },
        "template": {
         "data": {
          "bar": [
           {
            "error_x": {
             "color": "#2a3f5f"
            },
            "error_y": {
             "color": "#2a3f5f"
            },
            "marker": {
             "line": {
              "color": "#E5ECF6",
              "width": 0.5
             },
             "pattern": {
              "fillmode": "overlay",
              "size": 10,
              "solidity": 0.2
             }
            },
            "type": "bar"
           }
          ],
          "barpolar": [
           {
            "marker": {
             "line": {
              "color": "#E5ECF6",
              "width": 0.5
             },
             "pattern": {
              "fillmode": "overlay",
              "size": 10,
              "solidity": 0.2
             }
            },
            "type": "barpolar"
           }
          ],
          "carpet": [
           {
            "aaxis": {
             "endlinecolor": "#2a3f5f",
             "gridcolor": "white",
             "linecolor": "white",
             "minorgridcolor": "white",
             "startlinecolor": "#2a3f5f"
            },
            "baxis": {
             "endlinecolor": "#2a3f5f",
             "gridcolor": "white",
             "linecolor": "white",
             "minorgridcolor": "white",
             "startlinecolor": "#2a3f5f"
            },
            "type": "carpet"
           }
          ],
          "choropleth": [
           {
            "colorbar": {
             "outlinewidth": 0,
             "ticks": ""
            },
            "type": "choropleth"
           }
          ],
          "contour": [
           {
            "colorbar": {
             "outlinewidth": 0,
             "ticks": ""
            },
            "colorscale": [
             [
              0,
              "#0d0887"
             ],
             [
              0.1111111111111111,
              "#46039f"
             ],
             [
              0.2222222222222222,
              "#7201a8"
             ],
             [
              0.3333333333333333,
              "#9c179e"
             ],
             [
              0.4444444444444444,
              "#bd3786"
             ],
             [
              0.5555555555555556,
              "#d8576b"
             ],
             [
              0.6666666666666666,
              "#ed7953"
             ],
             [
              0.7777777777777778,
              "#fb9f3a"
             ],
             [
              0.8888888888888888,
              "#fdca26"
             ],
             [
              1,
              "#f0f921"
             ]
            ],
            "type": "contour"
           }
          ],
          "contourcarpet": [
           {
            "colorbar": {
             "outlinewidth": 0,
             "ticks": ""
            },
            "type": "contourcarpet"
           }
          ],
          "heatmap": [
           {
            "colorbar": {
             "outlinewidth": 0,
             "ticks": ""
            },
            "colorscale": [
             [
              0,
              "#0d0887"
             ],
             [
              0.1111111111111111,
              "#46039f"
             ],
             [
              0.2222222222222222,
              "#7201a8"
             ],
             [
              0.3333333333333333,
              "#9c179e"
             ],
             [
              0.4444444444444444,
              "#bd3786"
             ],
             [
              0.5555555555555556,
              "#d8576b"
             ],
             [
              0.6666666666666666,
              "#ed7953"
             ],
             [
              0.7777777777777778,
              "#fb9f3a"
             ],
             [
              0.8888888888888888,
              "#fdca26"
             ],
             [
              1,
              "#f0f921"
             ]
            ],
            "type": "heatmap"
           }
          ],
          "heatmapgl": [
           {
            "colorbar": {
             "outlinewidth": 0,
             "ticks": ""
            },
            "colorscale": [
             [
              0,
              "#0d0887"
             ],
             [
              0.1111111111111111,
              "#46039f"
             ],
             [
              0.2222222222222222,
              "#7201a8"
             ],
             [
              0.3333333333333333,
              "#9c179e"
             ],
             [
              0.4444444444444444,
              "#bd3786"
             ],
             [
              0.5555555555555556,
              "#d8576b"
             ],
             [
              0.6666666666666666,
              "#ed7953"
             ],
             [
              0.7777777777777778,
              "#fb9f3a"
             ],
             [
              0.8888888888888888,
              "#fdca26"
             ],
             [
              1,
              "#f0f921"
             ]
            ],
            "type": "heatmapgl"
           }
          ],
          "histogram": [
           {
            "marker": {
             "pattern": {
              "fillmode": "overlay",
              "size": 10,
              "solidity": 0.2
             }
            },
            "type": "histogram"
           }
          ],
          "histogram2d": [
           {
            "colorbar": {
             "outlinewidth": 0,
             "ticks": ""
            },
            "colorscale": [
             [
              0,
              "#0d0887"
             ],
             [
              0.1111111111111111,
              "#46039f"
             ],
             [
              0.2222222222222222,
              "#7201a8"
             ],
             [
              0.3333333333333333,
              "#9c179e"
             ],
             [
              0.4444444444444444,
              "#bd3786"
             ],
             [
              0.5555555555555556,
              "#d8576b"
             ],
             [
              0.6666666666666666,
              "#ed7953"
             ],
             [
              0.7777777777777778,
              "#fb9f3a"
             ],
             [
              0.8888888888888888,
              "#fdca26"
             ],
             [
              1,
              "#f0f921"
             ]
            ],
            "type": "histogram2d"
           }
          ],
          "histogram2dcontour": [
           {
            "colorbar": {
             "outlinewidth": 0,
             "ticks": ""
            },
            "colorscale": [
             [
              0,
              "#0d0887"
             ],
             [
              0.1111111111111111,
              "#46039f"
             ],
             [
              0.2222222222222222,
              "#7201a8"
             ],
             [
              0.3333333333333333,
              "#9c179e"
             ],
             [
              0.4444444444444444,
              "#bd3786"
             ],
             [
              0.5555555555555556,
              "#d8576b"
             ],
             [
              0.6666666666666666,
              "#ed7953"
             ],
             [
              0.7777777777777778,
              "#fb9f3a"
             ],
             [
              0.8888888888888888,
              "#fdca26"
             ],
             [
              1,
              "#f0f921"
             ]
            ],
            "type": "histogram2dcontour"
           }
          ],
          "mesh3d": [
           {
            "colorbar": {
             "outlinewidth": 0,
             "ticks": ""
            },
            "type": "mesh3d"
           }
          ],
          "parcoords": [
           {
            "line": {
             "colorbar": {
              "outlinewidth": 0,
              "ticks": ""
             }
            },
            "type": "parcoords"
           }
          ],
          "pie": [
           {
            "automargin": true,
            "type": "pie"
           }
          ],
          "scatter": [
           {
            "fillpattern": {
             "fillmode": "overlay",
             "size": 10,
             "solidity": 0.2
            },
            "type": "scatter"
           }
          ],
          "scatter3d": [
           {
            "line": {
             "colorbar": {
              "outlinewidth": 0,
              "ticks": ""
             }
            },
            "marker": {
             "colorbar": {
              "outlinewidth": 0,
              "ticks": ""
             }
            },
            "type": "scatter3d"
           }
          ],
          "scattercarpet": [
           {
            "marker": {
             "colorbar": {
              "outlinewidth": 0,
              "ticks": ""
             }
            },
            "type": "scattercarpet"
           }
          ],
          "scattergeo": [
           {
            "marker": {
             "colorbar": {
              "outlinewidth": 0,
              "ticks": ""
             }
            },
            "type": "scattergeo"
           }
          ],
          "scattergl": [
           {
            "marker": {
             "colorbar": {
              "outlinewidth": 0,
              "ticks": ""
             }
            },
            "type": "scattergl"
           }
          ],
          "scattermapbox": [
           {
            "marker": {
             "colorbar": {
              "outlinewidth": 0,
              "ticks": ""
             }
            },
            "type": "scattermapbox"
           }
          ],
          "scatterpolar": [
           {
            "marker": {
             "colorbar": {
              "outlinewidth": 0,
              "ticks": ""
             }
            },
            "type": "scatterpolar"
           }
          ],
          "scatterpolargl": [
           {
            "marker": {
             "colorbar": {
              "outlinewidth": 0,
              "ticks": ""
             }
            },
            "type": "scatterpolargl"
           }
          ],
          "scatterternary": [
           {
            "marker": {
             "colorbar": {
              "outlinewidth": 0,
              "ticks": ""
             }
            },
            "type": "scatterternary"
           }
          ],
          "surface": [
           {
            "colorbar": {
             "outlinewidth": 0,
             "ticks": ""
            },
            "colorscale": [
             [
              0,
              "#0d0887"
             ],
             [
              0.1111111111111111,
              "#46039f"
             ],
             [
              0.2222222222222222,
              "#7201a8"
             ],
             [
              0.3333333333333333,
              "#9c179e"
             ],
             [
              0.4444444444444444,
              "#bd3786"
             ],
             [
              0.5555555555555556,
              "#d8576b"
             ],
             [
              0.6666666666666666,
              "#ed7953"
             ],
             [
              0.7777777777777778,
              "#fb9f3a"
             ],
             [
              0.8888888888888888,
              "#fdca26"
             ],
             [
              1,
              "#f0f921"
             ]
            ],
            "type": "surface"
           }
          ],
          "table": [
           {
            "cells": {
             "fill": {
              "color": "#EBF0F8"
             },
             "line": {
              "color": "white"
             }
            },
            "header": {
             "fill": {
              "color": "#C8D4E3"
             },
             "line": {
              "color": "white"
             }
            },
            "type": "table"
           }
          ]
         },
         "layout": {
          "annotationdefaults": {
           "arrowcolor": "#2a3f5f",
           "arrowhead": 0,
           "arrowwidth": 1
          },
          "autotypenumbers": "strict",
          "coloraxis": {
           "colorbar": {
            "outlinewidth": 0,
            "ticks": ""
           }
          },
          "colorscale": {
           "diverging": [
            [
             0,
             "#8e0152"
            ],
            [
             0.1,
             "#c51b7d"
            ],
            [
             0.2,
             "#de77ae"
            ],
            [
             0.3,
             "#f1b6da"
            ],
            [
             0.4,
             "#fde0ef"
            ],
            [
             0.5,
             "#f7f7f7"
            ],
            [
             0.6,
             "#e6f5d0"
            ],
            [
             0.7,
             "#b8e186"
            ],
            [
             0.8,
             "#7fbc41"
            ],
            [
             0.9,
             "#4d9221"
            ],
            [
             1,
             "#276419"
            ]
           ],
           "sequential": [
            [
             0,
             "#0d0887"
            ],
            [
             0.1111111111111111,
             "#46039f"
            ],
            [
             0.2222222222222222,
             "#7201a8"
            ],
            [
             0.3333333333333333,
             "#9c179e"
            ],
            [
             0.4444444444444444,
             "#bd3786"
            ],
            [
             0.5555555555555556,
             "#d8576b"
            ],
            [
             0.6666666666666666,
             "#ed7953"
            ],
            [
             0.7777777777777778,
             "#fb9f3a"
            ],
            [
             0.8888888888888888,
             "#fdca26"
            ],
            [
             1,
             "#f0f921"
            ]
           ],
           "sequentialminus": [
            [
             0,
             "#0d0887"
            ],
            [
             0.1111111111111111,
             "#46039f"
            ],
            [
             0.2222222222222222,
             "#7201a8"
            ],
            [
             0.3333333333333333,
             "#9c179e"
            ],
            [
             0.4444444444444444,
             "#bd3786"
            ],
            [
             0.5555555555555556,
             "#d8576b"
            ],
            [
             0.6666666666666666,
             "#ed7953"
            ],
            [
             0.7777777777777778,
             "#fb9f3a"
            ],
            [
             0.8888888888888888,
             "#fdca26"
            ],
            [
             1,
             "#f0f921"
            ]
           ]
          },
          "colorway": [
           "#636efa",
           "#EF553B",
           "#00cc96",
           "#ab63fa",
           "#FFA15A",
           "#19d3f3",
           "#FF6692",
           "#B6E880",
           "#FF97FF",
           "#FECB52"
          ],
          "font": {
           "color": "#2a3f5f"
          },
          "geo": {
           "bgcolor": "white",
           "lakecolor": "white",
           "landcolor": "#E5ECF6",
           "showlakes": true,
           "showland": true,
           "subunitcolor": "white"
          },
          "hoverlabel": {
           "align": "left"
          },
          "hovermode": "closest",
          "mapbox": {
           "style": "light"
          },
          "paper_bgcolor": "white",
          "plot_bgcolor": "#E5ECF6",
          "polar": {
           "angularaxis": {
            "gridcolor": "white",
            "linecolor": "white",
            "ticks": ""
           },
           "bgcolor": "#E5ECF6",
           "radialaxis": {
            "gridcolor": "white",
            "linecolor": "white",
            "ticks": ""
           }
          },
          "scene": {
           "xaxis": {
            "backgroundcolor": "#E5ECF6",
            "gridcolor": "white",
            "gridwidth": 2,
            "linecolor": "white",
            "showbackground": true,
            "ticks": "",
            "zerolinecolor": "white"
           },
           "yaxis": {
            "backgroundcolor": "#E5ECF6",
            "gridcolor": "white",
            "gridwidth": 2,
            "linecolor": "white",
            "showbackground": true,
            "ticks": "",
            "zerolinecolor": "white"
           },
           "zaxis": {
            "backgroundcolor": "#E5ECF6",
            "gridcolor": "white",
            "gridwidth": 2,
            "linecolor": "white",
            "showbackground": true,
            "ticks": "",
            "zerolinecolor": "white"
           }
          },
          "shapedefaults": {
           "line": {
            "color": "#2a3f5f"
           }
          },
          "ternary": {
           "aaxis": {
            "gridcolor": "white",
            "linecolor": "white",
            "ticks": ""
           },
           "baxis": {
            "gridcolor": "white",
            "linecolor": "white",
            "ticks": ""
           },
           "bgcolor": "#E5ECF6",
           "caxis": {
            "gridcolor": "white",
            "linecolor": "white",
            "ticks": ""
           }
          },
          "title": {
           "x": 0.05
          },
          "xaxis": {
           "automargin": true,
           "gridcolor": "white",
           "linecolor": "white",
           "ticks": "",
           "title": {
            "standoff": 15
           },
           "zerolinecolor": "white",
           "zerolinewidth": 2
          },
          "yaxis": {
           "automargin": true,
           "gridcolor": "white",
           "linecolor": "white",
           "ticks": "",
           "title": {
            "standoff": 15
           },
           "zerolinecolor": "white",
           "zerolinewidth": 2
          }
         }
        },
        "title": {
         "text": "Beef vs. Hourly Earnings - p values",
         "x": 0.5,
         "xanchor": "center",
         "y": 0.95,
         "yanchor": "top"
        },
        "width": 800
       }
      },
      "text/html": [
       "<div>                            <div id=\"cbdd2d1b-995e-4fc9-8651-213be92126ab\" class=\"plotly-graph-div\" style=\"height:450px; width:800px;\"></div>            <script type=\"text/javascript\">                require([\"plotly\"], function(Plotly) {                    window.PLOTLYENV=window.PLOTLYENV || {};                                    if (document.getElementById(\"cbdd2d1b-995e-4fc9-8651-213be92126ab\")) {                    Plotly.newPlot(                        \"cbdd2d1b-995e-4fc9-8651-213be92126ab\",                        [{\"autocolorscale\":false,\"colorbar\":{\"title\":{\"text\":\"log(p)\"},\"x\":1.02},\"colorscale\":[[0.0,\"rgb(255,255,229)\"],[0.125,\"rgb(255,247,188)\"],[0.25,\"rgb(254,227,145)\"],[0.375,\"rgb(254,196,79)\"],[0.5,\"rgb(254,153,41)\"],[0.625,\"rgb(236,112,20)\"],[0.75,\"rgb(204,76,2)\"],[0.875,\"rgb(153,52,4)\"],[1.0,\"rgb(102,37,6)\"]],\"locationmode\":\"USA-states\",\"locations\":[\"AL\",\"AK\",\"AZ\",\"AR\",\"CA\",\"CO\",\"CT\",\"DE\",\"DC\",\"FL\",\"GA\",\"HI\",\"ID\",\"IL\",\"IN\",\"IA\",\"KS\",\"KY\",\"LA\",\"ME\",\"MD\",\"MA\",\"MI\",\"MN\",\"MS\",\"MO\",\"MT\",\"NE\",\"NV\",\"NH\",\"NJ\",\"NM\",\"NY\",\"NC\",\"ND\",\"OH\",\"OK\",\"OR\",\"PA\",\"RI\",\"SC\",\"SD\",\"TN\",\"TX\",\"UT\",\"VT\",\"VA\",\"WA\",\"WV\",\"WI\",\"WY\"],\"marker\":{\"line\":{\"color\":\"white\"}},\"z\":[-14.44777591004848,-1.984842607788422,-7.510330697851369,-9.868032002117115,-15.071366735808322,-12.878692125761779,-11.815299543687042,-7.571628882852928,-7.965394356625781,-8.979902719700233,-10.072209388135422,-7.619965973514976,-9.291054156211235,-19.806016651968456,-14.823184915161715,-7.3742117114081704,-13.169935112669767,-8.414338711375658,-7.698647641515032,-5.445507774041583,-12.900425247655573,-16.289816164821453,-13.981381604678415,-10.667577013342747,-8.574134439188096,-11.068799711696945,-5.441748303660062,-5.908800309493258,-6.6550219858031125,-9.28924930321431,-10.985661615614767,-9.950520927805174,-15.981674471330876,-17.240172747013116,-8.712224883710668,-14.337829949466222,-12.71398296522278,-8.63213546263838,-16.29349448435651,-7.400586871071756,-7.2551424034025445,-12.54769770080273,-19.741679205575974,-12.050658044852954,-4.891740832877577,-3.7766348328755135,-12.296609541355723,-13.444337923282102,-6.401793341707959,-15.329270783768244,-7.154983237789292],\"type\":\"choropleth\"}],                        {\"geo\":{\"lakecolor\":\"rgb(255, 255, 255)\",\"projection\":{\"type\":\"albers usa\"},\"scope\":\"usa\",\"showlakes\":true},\"height\":450,\"margin\":{\"b\":0,\"l\":10,\"r\":10,\"t\":50},\"title\":{\"text\":\"Beef vs. Hourly Earnings - p values\",\"x\":0.5,\"xanchor\":\"center\",\"y\":0.95,\"yanchor\":\"top\"},\"width\":800,\"template\":{\"data\":{\"histogram2dcontour\":[{\"type\":\"histogram2dcontour\",\"colorbar\":{\"outlinewidth\":0,\"ticks\":\"\"},\"colorscale\":[[0.0,\"#0d0887\"],[0.1111111111111111,\"#46039f\"],[0.2222222222222222,\"#7201a8\"],[0.3333333333333333,\"#9c179e\"],[0.4444444444444444,\"#bd3786\"],[0.5555555555555556,\"#d8576b\"],[0.6666666666666666,\"#ed7953\"],[0.7777777777777778,\"#fb9f3a\"],[0.8888888888888888,\"#fdca26\"],[1.0,\"#f0f921\"]]}],\"choropleth\":[{\"type\":\"choropleth\",\"colorbar\":{\"outlinewidth\":0,\"ticks\":\"\"}}],\"histogram2d\":[{\"type\":\"histogram2d\",\"colorbar\":{\"outlinewidth\":0,\"ticks\":\"\"},\"colorscale\":[[0.0,\"#0d0887\"],[0.1111111111111111,\"#46039f\"],[0.2222222222222222,\"#7201a8\"],[0.3333333333333333,\"#9c179e\"],[0.4444444444444444,\"#bd3786\"],[0.5555555555555556,\"#d8576b\"],[0.6666666666666666,\"#ed7953\"],[0.7777777777777778,\"#fb9f3a\"],[0.8888888888888888,\"#fdca26\"],[1.0,\"#f0f921\"]]}],\"heatmap\":[{\"type\":\"heatmap\",\"colorbar\":{\"outlinewidth\":0,\"ticks\":\"\"},\"colorscale\":[[0.0,\"#0d0887\"],[0.1111111111111111,\"#46039f\"],[0.2222222222222222,\"#7201a8\"],[0.3333333333333333,\"#9c179e\"],[0.4444444444444444,\"#bd3786\"],[0.5555555555555556,\"#d8576b\"],[0.6666666666666666,\"#ed7953\"],[0.7777777777777778,\"#fb9f3a\"],[0.8888888888888888,\"#fdca26\"],[1.0,\"#f0f921\"]]}],\"heatmapgl\":[{\"type\":\"heatmapgl\",\"colorbar\":{\"outlinewidth\":0,\"ticks\":\"\"},\"colorscale\":[[0.0,\"#0d0887\"],[0.1111111111111111,\"#46039f\"],[0.2222222222222222,\"#7201a8\"],[0.3333333333333333,\"#9c179e\"],[0.4444444444444444,\"#bd3786\"],[0.5555555555555556,\"#d8576b\"],[0.6666666666666666,\"#ed7953\"],[0.7777777777777778,\"#fb9f3a\"],[0.8888888888888888,\"#fdca26\"],[1.0,\"#f0f921\"]]}],\"contourcarpet\":[{\"type\":\"contourcarpet\",\"colorbar\":{\"outlinewidth\":0,\"ticks\":\"\"}}],\"contour\":[{\"type\":\"contour\",\"colorbar\":{\"outlinewidth\":0,\"ticks\":\"\"},\"colorscale\":[[0.0,\"#0d0887\"],[0.1111111111111111,\"#46039f\"],[0.2222222222222222,\"#7201a8\"],[0.3333333333333333,\"#9c179e\"],[0.4444444444444444,\"#bd3786\"],[0.5555555555555556,\"#d8576b\"],[0.6666666666666666,\"#ed7953\"],[0.7777777777777778,\"#fb9f3a\"],[0.8888888888888888,\"#fdca26\"],[1.0,\"#f0f921\"]]}],\"surface\":[{\"type\":\"surface\",\"colorbar\":{\"outlinewidth\":0,\"ticks\":\"\"},\"colorscale\":[[0.0,\"#0d0887\"],[0.1111111111111111,\"#46039f\"],[0.2222222222222222,\"#7201a8\"],[0.3333333333333333,\"#9c179e\"],[0.4444444444444444,\"#bd3786\"],[0.5555555555555556,\"#d8576b\"],[0.6666666666666666,\"#ed7953\"],[0.7777777777777778,\"#fb9f3a\"],[0.8888888888888888,\"#fdca26\"],[1.0,\"#f0f921\"]]}],\"mesh3d\":[{\"type\":\"mesh3d\",\"colorbar\":{\"outlinewidth\":0,\"ticks\":\"\"}}],\"scatter\":[{\"fillpattern\":{\"fillmode\":\"overlay\",\"size\":10,\"solidity\":0.2},\"type\":\"scatter\"}],\"parcoords\":[{\"type\":\"parcoords\",\"line\":{\"colorbar\":{\"outlinewidth\":0,\"ticks\":\"\"}}}],\"scatterpolargl\":[{\"type\":\"scatterpolargl\",\"marker\":{\"colorbar\":{\"outlinewidth\":0,\"ticks\":\"\"}}}],\"bar\":[{\"error_x\":{\"color\":\"#2a3f5f\"},\"error_y\":{\"color\":\"#2a3f5f\"},\"marker\":{\"line\":{\"color\":\"#E5ECF6\",\"width\":0.5},\"pattern\":{\"fillmode\":\"overlay\",\"size\":10,\"solidity\":0.2}},\"type\":\"bar\"}],\"scattergeo\":[{\"type\":\"scattergeo\",\"marker\":{\"colorbar\":{\"outlinewidth\":0,\"ticks\":\"\"}}}],\"scatterpolar\":[{\"type\":\"scatterpolar\",\"marker\":{\"colorbar\":{\"outlinewidth\":0,\"ticks\":\"\"}}}],\"histogram\":[{\"marker\":{\"pattern\":{\"fillmode\":\"overlay\",\"size\":10,\"solidity\":0.2}},\"type\":\"histogram\"}],\"scattergl\":[{\"type\":\"scattergl\",\"marker\":{\"colorbar\":{\"outlinewidth\":0,\"ticks\":\"\"}}}],\"scatter3d\":[{\"type\":\"scatter3d\",\"line\":{\"colorbar\":{\"outlinewidth\":0,\"ticks\":\"\"}},\"marker\":{\"colorbar\":{\"outlinewidth\":0,\"ticks\":\"\"}}}],\"scattermapbox\":[{\"type\":\"scattermapbox\",\"marker\":{\"colorbar\":{\"outlinewidth\":0,\"ticks\":\"\"}}}],\"scatterternary\":[{\"type\":\"scatterternary\",\"marker\":{\"colorbar\":{\"outlinewidth\":0,\"ticks\":\"\"}}}],\"scattercarpet\":[{\"type\":\"scattercarpet\",\"marker\":{\"colorbar\":{\"outlinewidth\":0,\"ticks\":\"\"}}}],\"carpet\":[{\"aaxis\":{\"endlinecolor\":\"#2a3f5f\",\"gridcolor\":\"white\",\"linecolor\":\"white\",\"minorgridcolor\":\"white\",\"startlinecolor\":\"#2a3f5f\"},\"baxis\":{\"endlinecolor\":\"#2a3f5f\",\"gridcolor\":\"white\",\"linecolor\":\"white\",\"minorgridcolor\":\"white\",\"startlinecolor\":\"#2a3f5f\"},\"type\":\"carpet\"}],\"table\":[{\"cells\":{\"fill\":{\"color\":\"#EBF0F8\"},\"line\":{\"color\":\"white\"}},\"header\":{\"fill\":{\"color\":\"#C8D4E3\"},\"line\":{\"color\":\"white\"}},\"type\":\"table\"}],\"barpolar\":[{\"marker\":{\"line\":{\"color\":\"#E5ECF6\",\"width\":0.5},\"pattern\":{\"fillmode\":\"overlay\",\"size\":10,\"solidity\":0.2}},\"type\":\"barpolar\"}],\"pie\":[{\"automargin\":true,\"type\":\"pie\"}]},\"layout\":{\"autotypenumbers\":\"strict\",\"colorway\":[\"#636efa\",\"#EF553B\",\"#00cc96\",\"#ab63fa\",\"#FFA15A\",\"#19d3f3\",\"#FF6692\",\"#B6E880\",\"#FF97FF\",\"#FECB52\"],\"font\":{\"color\":\"#2a3f5f\"},\"hovermode\":\"closest\",\"hoverlabel\":{\"align\":\"left\"},\"paper_bgcolor\":\"white\",\"plot_bgcolor\":\"#E5ECF6\",\"polar\":{\"bgcolor\":\"#E5ECF6\",\"angularaxis\":{\"gridcolor\":\"white\",\"linecolor\":\"white\",\"ticks\":\"\"},\"radialaxis\":{\"gridcolor\":\"white\",\"linecolor\":\"white\",\"ticks\":\"\"}},\"ternary\":{\"bgcolor\":\"#E5ECF6\",\"aaxis\":{\"gridcolor\":\"white\",\"linecolor\":\"white\",\"ticks\":\"\"},\"baxis\":{\"gridcolor\":\"white\",\"linecolor\":\"white\",\"ticks\":\"\"},\"caxis\":{\"gridcolor\":\"white\",\"linecolor\":\"white\",\"ticks\":\"\"}},\"coloraxis\":{\"colorbar\":{\"outlinewidth\":0,\"ticks\":\"\"}},\"colorscale\":{\"sequential\":[[0.0,\"#0d0887\"],[0.1111111111111111,\"#46039f\"],[0.2222222222222222,\"#7201a8\"],[0.3333333333333333,\"#9c179e\"],[0.4444444444444444,\"#bd3786\"],[0.5555555555555556,\"#d8576b\"],[0.6666666666666666,\"#ed7953\"],[0.7777777777777778,\"#fb9f3a\"],[0.8888888888888888,\"#fdca26\"],[1.0,\"#f0f921\"]],\"sequentialminus\":[[0.0,\"#0d0887\"],[0.1111111111111111,\"#46039f\"],[0.2222222222222222,\"#7201a8\"],[0.3333333333333333,\"#9c179e\"],[0.4444444444444444,\"#bd3786\"],[0.5555555555555556,\"#d8576b\"],[0.6666666666666666,\"#ed7953\"],[0.7777777777777778,\"#fb9f3a\"],[0.8888888888888888,\"#fdca26\"],[1.0,\"#f0f921\"]],\"diverging\":[[0,\"#8e0152\"],[0.1,\"#c51b7d\"],[0.2,\"#de77ae\"],[0.3,\"#f1b6da\"],[0.4,\"#fde0ef\"],[0.5,\"#f7f7f7\"],[0.6,\"#e6f5d0\"],[0.7,\"#b8e186\"],[0.8,\"#7fbc41\"],[0.9,\"#4d9221\"],[1,\"#276419\"]]},\"xaxis\":{\"gridcolor\":\"white\",\"linecolor\":\"white\",\"ticks\":\"\",\"title\":{\"standoff\":15},\"zerolinecolor\":\"white\",\"automargin\":true,\"zerolinewidth\":2},\"yaxis\":{\"gridcolor\":\"white\",\"linecolor\":\"white\",\"ticks\":\"\",\"title\":{\"standoff\":15},\"zerolinecolor\":\"white\",\"automargin\":true,\"zerolinewidth\":2},\"scene\":{\"xaxis\":{\"backgroundcolor\":\"#E5ECF6\",\"gridcolor\":\"white\",\"linecolor\":\"white\",\"showbackground\":true,\"ticks\":\"\",\"zerolinecolor\":\"white\",\"gridwidth\":2},\"yaxis\":{\"backgroundcolor\":\"#E5ECF6\",\"gridcolor\":\"white\",\"linecolor\":\"white\",\"showbackground\":true,\"ticks\":\"\",\"zerolinecolor\":\"white\",\"gridwidth\":2},\"zaxis\":{\"backgroundcolor\":\"#E5ECF6\",\"gridcolor\":\"white\",\"linecolor\":\"white\",\"showbackground\":true,\"ticks\":\"\",\"zerolinecolor\":\"white\",\"gridwidth\":2}},\"shapedefaults\":{\"line\":{\"color\":\"#2a3f5f\"}},\"annotationdefaults\":{\"arrowcolor\":\"#2a3f5f\",\"arrowhead\":0,\"arrowwidth\":1},\"geo\":{\"bgcolor\":\"white\",\"landcolor\":\"#E5ECF6\",\"subunitcolor\":\"white\",\"showland\":true,\"showlakes\":true,\"lakecolor\":\"white\"},\"title\":{\"x\":0.05},\"mapbox\":{\"style\":\"light\"}}}},                        {\"responsive\": true}                    ).then(function(){\n",
       "                            \n",
       "var gd = document.getElementById('cbdd2d1b-995e-4fc9-8651-213be92126ab');\n",
       "var x = new MutationObserver(function (mutations, observer) {{\n",
       "        var display = window.getComputedStyle(gd).display;\n",
       "        if (!display || display === 'none') {{\n",
       "            console.log([gd, 'removed!']);\n",
       "            Plotly.purge(gd);\n",
       "            observer.disconnect();\n",
       "        }}\n",
       "}});\n",
       "\n",
       "// Listen for the removal of the full notebook cells\n",
       "var notebookContainer = gd.closest('#notebook-container');\n",
       "if (notebookContainer) {{\n",
       "    x.observe(notebookContainer, {childList: true});\n",
       "}}\n",
       "\n",
       "// Listen for the clearing of the current output cell\n",
       "var outputEl = gd.closest('.output');\n",
       "if (outputEl) {{\n",
       "    x.observe(outputEl, {childList: true});\n",
       "}}\n",
       "\n",
       "                        })                };                });            </script>        </div>"
      ]
     },
     "metadata": {},
     "output_type": "display_data"
    }
   ],
   "source": [
    "\n",
    "abbreviations = get_abbreviations()\n",
    "plot_df = pd.DataFrame(plot_data, columns=['state', 'value'])\n",
    "plot_df['state'] = plot_df['state'].apply(lambda state: abbreviations[state])\n",
    "\n",
    "fig = get_state_figure(plot_df['state'], np.log10(plot_df['value']), \"log(p)\", \"Beef vs. Hourly Earnings - p values\")\n",
    "fig.show()"
   ]
  },
  {
   "cell_type": "code",
   "execution_count": 25,
   "metadata": {},
   "outputs": [],
   "source": [
    "fig.write_image(\"p_value.png\", scale=10)"
   ]
  }
 ],
 "metadata": {
  "kernelspec": {
   "display_name": ".venv",
   "language": "python",
   "name": "python3"
  },
  "language_info": {
   "codemirror_mode": {
    "name": "ipython",
    "version": 3
   },
   "file_extension": ".py",
   "mimetype": "text/x-python",
   "name": "python",
   "nbconvert_exporter": "python",
   "pygments_lexer": "ipython3",
   "version": "3.10.12"
  }
 },
 "nbformat": 4,
 "nbformat_minor": 2
}
